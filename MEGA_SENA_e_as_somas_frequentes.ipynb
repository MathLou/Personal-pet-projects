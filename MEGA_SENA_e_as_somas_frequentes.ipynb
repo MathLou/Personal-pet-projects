{
  "nbformat": 4,
  "nbformat_minor": 0,
  "metadata": {
    "colab": {
      "provenance": []
    },
    "kernelspec": {
      "name": "python3",
      "display_name": "Python 3"
    },
    "language_info": {
      "name": "python"
    }
  },
  "cells": [
    {
      "cell_type": "markdown",
      "source": [
        "#Mega-sena\n",
        "  ### Estratégia que filtra possibilidades de apostas seguindo os volantes de somas mais frequentes\n",
        "#####As listas 'sums' e 'games' correspondem às somas de todos os possíveis jogos e os possíveis jogos, respectivamente\n",
        "A ideia veio de uma simples observação, ao me perguntarem qual a soma mais provável no lançamento entre dois dados (6 faces e números de 1 a 6), 11 ou 12?\n",
        "Ao descrever o espaço amostral, fiquei interessado em perceber que além da resposta certa ser 11, para dois dados aleatórios, há uma soma mais provável, que no caso é a média entre a menor soma possível e a maior, o que resulta em 7\n",
        "![image.png](data:image/png;base64,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)\n",
        "\n",
        "Fui testar essa teoria e compilei um histograma com 36 somas de 36 jogadas que realizei, e percebi uma distribuição que se aproxima da curva normal. Eis que me veio a ideia de sempre apostar soma 7 em jogos de dados. Ou melhor, e se aplicar essa estratégia para a loteria? A milionária MEGA-SENA de fim de ano?\n",
        "\n",
        "Confira o meu trabalho abaixo e as conclusões.\n"
      ],
      "metadata": {
        "id": "gP7RaU3G3ZX8"
      }
    },
    {
      "cell_type": "code",
      "source": [
        "#criar todas as combinações e armazenar em uma lista\n",
        "from itertools import combinations \n",
        "\n",
        "#lista de todos os números da lotofácil\n",
        "numbers= [i for i in range(1,61)]\n",
        "#número de escolhas \n",
        "groupOf = 6\n",
        "sums = []\n",
        "games = []\n",
        "for x in combinations(numbers, groupOf):\n",
        "  sums.append(sum(x))\n",
        "  games.append(x)"
      ],
      "metadata": {
        "id": "M3WkzD__3fgu"
      },
      "execution_count": 2,
      "outputs": []
    },
    {
      "cell_type": "markdown",
      "source": [
        "###Conferindo se o número de possíveis jogos bate com a previsão"
      ],
      "metadata": {
        "id": "UeuLJkIg3e6Z"
      }
    },
    {
      "cell_type": "code",
      "source": [
        "import numpy as np\n",
        "from scipy.special import comb\n",
        "#Número de combinações de 60 números escolhem 6.\n",
        "numero_de_combinacoes = scipy.special.comb(60, 6, exact=False, repetition=False)\n",
        "numero_de_combinacoes == len(games)"
      ],
      "metadata": {
        "id": "6WtofQ_JzR82",
        "colab": {
          "base_uri": "https://localhost:8080/"
        },
        "outputId": "35fc2545-24c5-4118-8e07-3cb3f34e6f99"
      },
      "execution_count": 10,
      "outputs": [
        {
          "output_type": "execute_result",
          "data": {
            "text/plain": [
              "True"
            ]
          },
          "metadata": {},
          "execution_count": 10
        }
      ]
    },
    {
      "cell_type": "markdown",
      "source": [
        "##Determinando o número de possíveis somas que podem existir\n",
        "### Mais tarde será útil para o histograma e o número correto de bins"
      ],
      "metadata": {
        "id": "KXlo9J-83tLS"
      }
    },
    {
      "cell_type": "code",
      "source": [
        "l1=[i for i in range(1,7)]\n",
        "l2=[j for j in range(55,61)]\n",
        "s = sum(l2)-sum(l1)\n",
        "s"
      ],
      "metadata": {
        "id": "vFfDV2HXCM-v",
        "colab": {
          "base_uri": "https://localhost:8080/"
        },
        "outputId": "060c71ec-c9f0-4a3e-81d0-adbca9d38de6"
      },
      "execution_count": 11,
      "outputs": [
        {
          "output_type": "execute_result",
          "data": {
            "text/plain": [
              "324"
            ]
          },
          "metadata": {},
          "execution_count": 11
        }
      ]
    },
    {
      "cell_type": "markdown",
      "source": [
        "##Plotando o histograma dos resultados analíticos das possíveis somas de todos os volantes da mega-sena"
      ],
      "metadata": {
        "id": "Ih9j6hD84bnz"
      }
    },
    {
      "cell_type": "code",
      "source": [
        "import matplotlib.pyplot as plt\n",
        "import random\n",
        "#150 pois é a diferença entre o valor máximo e o mínimo possível de soma entre os possíveis valores da lista sums\n",
        "plt.hist(sums,bins = 324);"
      ],
      "metadata": {
        "colab": {
          "base_uri": "https://localhost:8080/",
          "height": 268
        },
        "id": "dKf2SFKiCwUO",
        "outputId": "47de8502-be76-4f2d-8833-53fc2304e3b0"
      },
      "execution_count": 16,
      "outputs": [
        {
          "output_type": "display_data",
          "data": {
            "text/plain": [
              "<Figure size 432x288 with 1 Axes>"
            ],
            "image/png": "[encoded data removed]"
          },
          "metadata": {
            "needs_background": "light"
          }
        }
      ]
    },
    {
      "cell_type": "markdown",
      "source": [
        "###Checando qual a soma mais frequente(mode ou moda) e em quantos jogos existem com esse valor(count)"
      ],
      "metadata": {
        "id": "iq828wPP4uHC"
      }
    },
    {
      "cell_type": "code",
      "source": [
        "from scipy import stats as st\n",
        "print(st.mode(sums))"
      ],
      "metadata": {
        "colab": {
          "base_uri": "https://localhost:8080/"
        },
        "id": "K-Zzk9dLC56q",
        "outputId": "4c2b3e78-2de8-450f-b0c9-e4aa967523e7"
      },
      "execution_count": 17,
      "outputs": [
        {
          "output_type": "stream",
          "name": "stdout",
          "text": [
            "ModeResult(mode=array([183]), count=array([479632]))\n"
          ]
        }
      ]
    },
    {
      "cell_type": "markdown",
      "source": [
        "Filtrando os jogos que somam a moda e fazendo um download para apostas"
      ],
      "metadata": {
        "id": "XIDFS3K147_s"
      }
    },
    {
      "cell_type": "code",
      "source": [
        "filtered = []\n",
        "for i in games:\n",
        "  if sum(i)==183:\n",
        "    filtered.append(i)\n",
        "len(filtered)"
      ],
      "metadata": {
        "colab": {
          "base_uri": "https://localhost:8080/"
        },
        "id": "u6Xw9DToDFjY",
        "outputId": "b705b9aa-1235-4dd4-cf89-3cc2f90713bc"
      },
      "execution_count": 18,
      "outputs": [
        {
          "output_type": "execute_result",
          "data": {
            "text/plain": [
              "479632"
            ]
          },
          "metadata": {},
          "execution_count": 18
        }
      ]
    },
    {
      "cell_type": "code",
      "source": [
        "#Downloading filteredGames dataset\n",
        "#converting to csv\n",
        "from google.colab import files\n",
        "import pandas as pd\n",
        "dict ={'jogos_que_somam_183':filtered}\n",
        "DF = pd.DataFrame(dict)\n",
        "DF.to_csv('183_jogos.csv')\n",
        "files.download('183_jogos.csv')"
      ],
      "metadata": {
        "id": "8zrs7CUeDnch",
        "colab": {
          "base_uri": "https://localhost:8080/",
          "height": 17
        },
        "outputId": "095ec174-92d4-43ee-be79-cc8c5cc41230"
      },
      "execution_count": 19,
      "outputs": [
        {
          "output_type": "display_data",
          "data": {
            "text/plain": [
              "<IPython.core.display.Javascript object>"
            ],
            "application/javascript": [
              "\n",
              "    async function download(id, filename, size) {\n",
              "      if (!google.colab.kernel.accessAllowed) {\n",
              "        return;\n",
              "      }\n",
              "      const div = document.createElement('div');\n",
              "      const label = document.createElement('label');\n",
              "      label.textContent = `Downloading \"${filename}\": `;\n",
              "      div.appendChild(label);\n",
              "      const progress = document.createElement('progress');\n",
              "      progress.max = size;\n",
              "      div.appendChild(progress);\n",
              "      document.body.appendChild(div);\n",
              "\n",
              "      const buffers = [];\n",
              "      let downloaded = 0;\n",
              "\n",
              "      const channel = await google.colab.kernel.comms.open(id);\n",
              "      // Send a message to notify the kernel that we're ready.\n",
              "      channel.send({})\n",
              "\n",
              "      for await (const message of channel.messages) {\n",
              "        // Send a message to notify the kernel that we're ready.\n",
              "        channel.send({})\n",
              "        if (message.buffers) {\n",
              "          for (const buffer of message.buffers) {\n",
              "            buffers.push(buffer);\n",
              "            downloaded += buffer.byteLength;\n",
              "            progress.value = downloaded;\n",
              "          }\n",
              "        }\n",
              "      }\n",
              "      const blob = new Blob(buffers, {type: 'application/binary'});\n",
              "      const a = document.createElement('a');\n",
              "      a.href = window.URL.createObjectURL(blob);\n",
              "      a.download = filename;\n",
              "      div.appendChild(a);\n",
              "      a.click();\n",
              "      div.remove();\n",
              "    }\n",
              "  "
            ]
          },
          "metadata": {}
        },
        {
          "output_type": "display_data",
          "data": {
            "text/plain": [
              "<IPython.core.display.Javascript object>"
            ],
            "application/javascript": [
              "download(\"download_b533ee29-5b21-44fa-8c65-31dc044f119f\", \"183_jogos.csv\", 15801372)"
            ]
          },
          "metadata": {}
        }
      ]
    },
    {
      "cell_type": "markdown",
      "source": [
        "Convertendo lista de somas dos volantes em um data frame para mais análises"
      ],
      "metadata": {
        "id": "UJq1Jcjz5JvD"
      }
    },
    {
      "cell_type": "code",
      "source": [
        "dict1 = {'somas':sums}\n",
        "df = pd.DataFrame(dict1)\n",
        "df.shape"
      ],
      "metadata": {
        "colab": {
          "base_uri": "https://localhost:8080/"
        },
        "id": "m95M7Y7ITIUS",
        "outputId": "d6ef3954-e2e4-4d7c-a000-cba68ede09ed"
      },
      "execution_count": 20,
      "outputs": [
        {
          "output_type": "execute_result",
          "data": {
            "text/plain": [
              "(50063860, 1)"
            ]
          },
          "metadata": {},
          "execution_count": 20
        }
      ]
    },
    {
      "cell_type": "code",
      "source": [
        "#Estatísticas\n",
        "df.describe()"
      ],
      "metadata": {
        "colab": {
          "base_uri": "https://localhost:8080/",
          "height": 300
        },
        "id": "MA8QaJmKTSr3",
        "outputId": "968e8db0-1d08-4558-b6b4-9b0f1b267bfc"
      },
      "execution_count": 21,
      "outputs": [
        {
          "output_type": "execute_result",
          "data": {
            "text/plain": [
              "              somas\n",
              "count  5.006386e+07\n",
              "mean   1.830000e+02\n",
              "std    4.058325e+01\n",
              "min    2.100000e+01\n",
              "25%    1.550000e+02\n",
              "50%    1.830000e+02\n",
              "75%    2.110000e+02\n",
              "max    3.450000e+02"
            ],
            "text/html": [
              "\n",
              "  <div id=\"df-a83fbf07-1eea-4214-8aa3-7d171d872d0e\">\n",
              "    <div class=\"colab-df-container\">\n",
              "      <div>\n",
              "<style scoped>\n",
              "    .dataframe tbody tr th:only-of-type {\n",
              "        vertical-align: middle;\n",
              "    }\n",
              "\n",
              "    .dataframe tbody tr th {\n",
              "        vertical-align: top;\n",
              "    }\n",
              "\n",
              "    .dataframe thead th {\n",
              "        text-align: right;\n",
              "    }\n",
              "</style>\n",
              "<table border=\"1\" class=\"dataframe\">\n",
              "  <thead>\n",
              "    <tr style=\"text-align: right;\">\n",
              "      <th></th>\n",
              "      <th>somas</th>\n",
              "    </tr>\n",
              "  </thead>\n",
              "  <tbody>\n",
              "    <tr>\n",
              "      <th>count</th>\n",
              "      <td>5.006386e+07</td>\n",
              "    </tr>\n",
              "    <tr>\n",
              "      <th>mean</th>\n",
              "      <td>1.830000e+02</td>\n",
              "    </tr>\n",
              "    <tr>\n",
              "      <th>std</th>\n",
              "      <td>4.058325e+01</td>\n",
              "    </tr>\n",
              "    <tr>\n",
              "      <th>min</th>\n",
              "      <td>2.100000e+01</td>\n",
              "    </tr>\n",
              "    <tr>\n",
              "      <th>25%</th>\n",
              "      <td>1.550000e+02</td>\n",
              "    </tr>\n",
              "    <tr>\n",
              "      <th>50%</th>\n",
              "      <td>1.830000e+02</td>\n",
              "    </tr>\n",
              "    <tr>\n",
              "      <th>75%</th>\n",
              "      <td>2.110000e+02</td>\n",
              "    </tr>\n",
              "    <tr>\n",
              "      <th>max</th>\n",
              "      <td>3.450000e+02</td>\n",
              "    </tr>\n",
              "  </tbody>\n",
              "</table>\n",
              "</div>\n",
              "      <button class=\"colab-df-convert\" onclick=\"convertToInteractive('df-a83fbf07-1eea-4214-8aa3-7d171d872d0e')\"\n",
              "              title=\"Convert this dataframe to an interactive table.\"\n",
              "              style=\"display:none;\">\n",
              "        \n",
              "  <svg xmlns=\"http://www.w3.org/2000/svg\" height=\"24px\"viewBox=\"0 0 24 24\"\n",
              "       width=\"24px\">\n",
              "    <path d=\"M0 0h24v24H0V0z\" fill=\"none\"/>\n",
              "    <path d=\"M18.56 5.44l.94 2.06.94-2.06 2.06-.94-2.06-.94-.94-2.06-.94 2.06-2.06.94zm-11 1L8.5 8.5l.94-2.06 2.06-.94-2.06-.94L8.5 2.5l-.94 2.06-2.06.94zm10 10l.94 2.06.94-2.06 2.06-.94-2.06-.94-.94-2.06-.94 2.06-2.06.94z\"/><path d=\"M17.41 7.96l-1.37-1.37c-.4-.4-.92-.59-1.43-.59-.52 0-1.04.2-1.43.59L10.3 9.45l-7.72 7.72c-.78.78-.78 2.05 0 2.83L4 21.41c.39.39.9.59 1.41.59.51 0 1.02-.2 1.41-.59l7.78-7.78 2.81-2.81c.8-.78.8-2.07 0-2.86zM5.41 20L4 18.59l7.72-7.72 1.47 1.35L5.41 20z\"/>\n",
              "  </svg>\n",
              "      </button>\n",
              "      \n",
              "  <style>\n",
              "    .colab-df-container {\n",
              "      display:flex;\n",
              "      flex-wrap:wrap;\n",
              "      gap: 12px;\n",
              "    }\n",
              "\n",
              "    .colab-df-convert {\n",
              "      background-color: #E8F0FE;\n",
              "      border: none;\n",
              "      border-radius: 50%;\n",
              "      cursor: pointer;\n",
              "      display: none;\n",
              "      fill: #1967D2;\n",
              "      height: 32px;\n",
              "      padding: 0 0 0 0;\n",
              "      width: 32px;\n",
              "    }\n",
              "\n",
              "    .colab-df-convert:hover {\n",
              "      background-color: #E2EBFA;\n",
              "      box-shadow: 0px 1px 2px rgba(60, 64, 67, 0.3), 0px 1px 3px 1px rgba(60, 64, 67, 0.15);\n",
              "      fill: #174EA6;\n",
              "    }\n",
              "\n",
              "    [theme=dark] .colab-df-convert {\n",
              "      background-color: #3B4455;\n",
              "      fill: #D2E3FC;\n",
              "    }\n",
              "\n",
              "    [theme=dark] .colab-df-convert:hover {\n",
              "      background-color: #434B5C;\n",
              "      box-shadow: 0px 1px 3px 1px rgba(0, 0, 0, 0.15);\n",
              "      filter: drop-shadow(0px 1px 2px rgba(0, 0, 0, 0.3));\n",
              "      fill: #FFFFFF;\n",
              "    }\n",
              "  </style>\n",
              "\n",
              "      <script>\n",
              "        const buttonEl =\n",
              "          document.querySelector('#df-a83fbf07-1eea-4214-8aa3-7d171d872d0e button.colab-df-convert');\n",
              "        buttonEl.style.display =\n",
              "          google.colab.kernel.accessAllowed ? 'block' : 'none';\n",
              "\n",
              "        async function convertToInteractive(key) {\n",
              "          const element = document.querySelector('#df-a83fbf07-1eea-4214-8aa3-7d171d872d0e');\n",
              "          const dataTable =\n",
              "            await google.colab.kernel.invokeFunction('convertToInteractive',\n",
              "                                                     [key], {});\n",
              "          if (!dataTable) return;\n",
              "\n",
              "          const docLinkHtml = 'Like what you see? Visit the ' +\n",
              "            '<a target=\"_blank\" href=https://colab.research.google.com/notebooks/data_table.ipynb>data table notebook</a>'\n",
              "            + ' to learn more about interactive tables.';\n",
              "          element.innerHTML = '';\n",
              "          dataTable['output_type'] = 'display_data';\n",
              "          await google.colab.output.renderOutput(dataTable, element);\n",
              "          const docLink = document.createElement('div');\n",
              "          docLink.innerHTML = docLinkHtml;\n",
              "          element.appendChild(docLink);\n",
              "        }\n",
              "      </script>\n",
              "    </div>\n",
              "  </div>\n",
              "  "
            ]
          },
          "metadata": {},
          "execution_count": 21
        }
      ]
    },
    {
      "cell_type": "markdown",
      "source": [
        "Simulação com númeoros aleatórios e o comportamento bonimial"
      ],
      "metadata": {
        "id": "HWWgv4xv5XDM"
      }
    },
    {
      "cell_type": "code",
      "source": [
        "#simulação com sorteios aleatórios\n",
        "rand = []\n",
        "for i in range(2550):\n",
        "  #print(sum(random.sample(range(1, 25), 15)))\n",
        "  rand.append(sum(random.sample(range(1, 60), 6)))"
      ],
      "metadata": {
        "id": "Mxk-2pdL3j_-"
      },
      "execution_count": 22,
      "outputs": []
    },
    {
      "cell_type": "code",
      "source": [
        "plt.hist(rand,bins = 324);"
      ],
      "metadata": {
        "colab": {
          "base_uri": "https://localhost:8080/",
          "height": 265
        },
        "id": "Hqod08U_4xmC",
        "outputId": "61636e0a-efd6-4b6c-b168-8cb1784e1063"
      },
      "execution_count": 23,
      "outputs": [
        {
          "output_type": "display_data",
          "data": {
            "text/plain": [
              "<Figure size 432x288 with 1 Axes>"
            ],
            "image/png": "[encoded data removed]"
          },
          "metadata": {
            "needs_background": "light"
          }
        }
      ]
    },
    {
      "cell_type": "markdown",
      "source": [
        "Conferindo estatísticas da simulação"
      ],
      "metadata": {
        "id": "5gtlsKLE5meT"
      }
    },
    {
      "cell_type": "code",
      "source": [
        "l = {'random':rand}\n",
        "D = pd.DataFrame(l)\n",
        "D.describe()"
      ],
      "metadata": {
        "colab": {
          "base_uri": "https://localhost:8080/",
          "height": 300
        },
        "id": "8oNdtDTx5lKw",
        "outputId": "d39ab680-bb01-4c40-f892-d2cf48a72645"
      },
      "execution_count": 24,
      "outputs": [
        {
          "output_type": "execute_result",
          "data": {
            "text/plain": [
              "            random\n",
              "count  2550.000000\n",
              "mean    180.369020\n",
              "std      39.784323\n",
              "min      48.000000\n",
              "25%     153.000000\n",
              "50%     181.000000\n",
              "75%     207.000000\n",
              "max     294.000000"
            ],
            "text/html": [
              "\n",
              "  <div id=\"df-3376ce18-55d8-4116-a9a7-d534bf93c8ef\">\n",
              "    <div class=\"colab-df-container\">\n",
              "      <div>\n",
              "<style scoped>\n",
              "    .dataframe tbody tr th:only-of-type {\n",
              "        vertical-align: middle;\n",
              "    }\n",
              "\n",
              "    .dataframe tbody tr th {\n",
              "        vertical-align: top;\n",
              "    }\n",
              "\n",
              "    .dataframe thead th {\n",
              "        text-align: right;\n",
              "    }\n",
              "</style>\n",
              "<table border=\"1\" class=\"dataframe\">\n",
              "  <thead>\n",
              "    <tr style=\"text-align: right;\">\n",
              "      <th></th>\n",
              "      <th>random</th>\n",
              "    </tr>\n",
              "  </thead>\n",
              "  <tbody>\n",
              "    <tr>\n",
              "      <th>count</th>\n",
              "      <td>2550.000000</td>\n",
              "    </tr>\n",
              "    <tr>\n",
              "      <th>mean</th>\n",
              "      <td>180.369020</td>\n",
              "    </tr>\n",
              "    <tr>\n",
              "      <th>std</th>\n",
              "      <td>39.784323</td>\n",
              "    </tr>\n",
              "    <tr>\n",
              "      <th>min</th>\n",
              "      <td>48.000000</td>\n",
              "    </tr>\n",
              "    <tr>\n",
              "      <th>25%</th>\n",
              "      <td>153.000000</td>\n",
              "    </tr>\n",
              "    <tr>\n",
              "      <th>50%</th>\n",
              "      <td>181.000000</td>\n",
              "    </tr>\n",
              "    <tr>\n",
              "      <th>75%</th>\n",
              "      <td>207.000000</td>\n",
              "    </tr>\n",
              "    <tr>\n",
              "      <th>max</th>\n",
              "      <td>294.000000</td>\n",
              "    </tr>\n",
              "  </tbody>\n",
              "</table>\n",
              "</div>\n",
              "      <button class=\"colab-df-convert\" onclick=\"convertToInteractive('df-3376ce18-55d8-4116-a9a7-d534bf93c8ef')\"\n",
              "              title=\"Convert this dataframe to an interactive table.\"\n",
              "              style=\"display:none;\">\n",
              "        \n",
              "  <svg xmlns=\"http://www.w3.org/2000/svg\" height=\"24px\"viewBox=\"0 0 24 24\"\n",
              "       width=\"24px\">\n",
              "    <path d=\"M0 0h24v24H0V0z\" fill=\"none\"/>\n",
              "    <path d=\"M18.56 5.44l.94 2.06.94-2.06 2.06-.94-2.06-.94-.94-2.06-.94 2.06-2.06.94zm-11 1L8.5 8.5l.94-2.06 2.06-.94-2.06-.94L8.5 2.5l-.94 2.06-2.06.94zm10 10l.94 2.06.94-2.06 2.06-.94-2.06-.94-.94-2.06-.94 2.06-2.06.94z\"/><path d=\"M17.41 7.96l-1.37-1.37c-.4-.4-.92-.59-1.43-.59-.52 0-1.04.2-1.43.59L10.3 9.45l-7.72 7.72c-.78.78-.78 2.05 0 2.83L4 21.41c.39.39.9.59 1.41.59.51 0 1.02-.2 1.41-.59l7.78-7.78 2.81-2.81c.8-.78.8-2.07 0-2.86zM5.41 20L4 18.59l7.72-7.72 1.47 1.35L5.41 20z\"/>\n",
              "  </svg>\n",
              "      </button>\n",
              "      \n",
              "  <style>\n",
              "    .colab-df-container {\n",
              "      display:flex;\n",
              "      flex-wrap:wrap;\n",
              "      gap: 12px;\n",
              "    }\n",
              "\n",
              "    .colab-df-convert {\n",
              "      background-color: #E8F0FE;\n",
              "      border: none;\n",
              "      border-radius: 50%;\n",
              "      cursor: pointer;\n",
              "      display: none;\n",
              "      fill: #1967D2;\n",
              "      height: 32px;\n",
              "      padding: 0 0 0 0;\n",
              "      width: 32px;\n",
              "    }\n",
              "\n",
              "    .colab-df-convert:hover {\n",
              "      background-color: #E2EBFA;\n",
              "      box-shadow: 0px 1px 2px rgba(60, 64, 67, 0.3), 0px 1px 3px 1px rgba(60, 64, 67, 0.15);\n",
              "      fill: #174EA6;\n",
              "    }\n",
              "\n",
              "    [theme=dark] .colab-df-convert {\n",
              "      background-color: #3B4455;\n",
              "      fill: #D2E3FC;\n",
              "    }\n",
              "\n",
              "    [theme=dark] .colab-df-convert:hover {\n",
              "      background-color: #434B5C;\n",
              "      box-shadow: 0px 1px 3px 1px rgba(0, 0, 0, 0.15);\n",
              "      filter: drop-shadow(0px 1px 2px rgba(0, 0, 0, 0.3));\n",
              "      fill: #FFFFFF;\n",
              "    }\n",
              "  </style>\n",
              "\n",
              "      <script>\n",
              "        const buttonEl =\n",
              "          document.querySelector('#df-3376ce18-55d8-4116-a9a7-d534bf93c8ef button.colab-df-convert');\n",
              "        buttonEl.style.display =\n",
              "          google.colab.kernel.accessAllowed ? 'block' : 'none';\n",
              "\n",
              "        async function convertToInteractive(key) {\n",
              "          const element = document.querySelector('#df-3376ce18-55d8-4116-a9a7-d534bf93c8ef');\n",
              "          const dataTable =\n",
              "            await google.colab.kernel.invokeFunction('convertToInteractive',\n",
              "                                                     [key], {});\n",
              "          if (!dataTable) return;\n",
              "\n",
              "          const docLinkHtml = 'Like what you see? Visit the ' +\n",
              "            '<a target=\"_blank\" href=https://colab.research.google.com/notebooks/data_table.ipynb>data table notebook</a>'\n",
              "            + ' to learn more about interactive tables.';\n",
              "          element.innerHTML = '';\n",
              "          dataTable['output_type'] = 'display_data';\n",
              "          await google.colab.output.renderOutput(dataTable, element);\n",
              "          const docLink = document.createElement('div');\n",
              "          docLink.innerHTML = docLinkHtml;\n",
              "          element.appendChild(docLink);\n",
              "        }\n",
              "      </script>\n",
              "    </div>\n",
              "  </div>\n",
              "  "
            ]
          },
          "metadata": {},
          "execution_count": 24
        }
      ]
    },
    {
      "cell_type": "code",
      "source": [
        "#determinando a moda\n",
        "print(st.mode(rand))"
      ],
      "metadata": {
        "colab": {
          "base_uri": "https://localhost:8080/"
        },
        "id": "k7bSAALp6KM-",
        "outputId": "8f7a2047-3ce9-4ffa-ebdf-b424885a0459"
      },
      "execution_count": 25,
      "outputs": [
        {
          "output_type": "stream",
          "name": "stdout",
          "text": [
            "ModeResult(mode=array([178]), count=array([32]))\n"
          ]
        }
      ]
    },
    {
      "cell_type": "code",
      "source": [
        "#upload de arquivo do computador\n",
        "#Sorteios Mega-Sena, obtido em: https://asloterias.com.br/todos-resultados-mega-sena\n",
        "from google.colab import files\n",
        "uploaded = files.upload()"
      ],
      "metadata": {
        "id": "0guP5SJ3vrfK",
        "colab": {
          "base_uri": "https://localhost:8080/",
          "height": 73
        },
        "outputId": "5d2d841c-8d4a-423d-c833-ca8ea196e1cd"
      },
      "execution_count": 28,
      "outputs": [
        {
          "output_type": "display_data",
          "data": {
            "text/plain": [
              "<IPython.core.display.HTML object>"
            ],
            "text/html": [
              "\n",
              "     <input type=\"file\" id=\"files-7af51e66-4d94-4820-bd1a-b990f94289fa\" name=\"files[]\" multiple disabled\n",
              "        style=\"border:none\" />\n",
              "     <output id=\"result-7af51e66-4d94-4820-bd1a-b990f94289fa\">\n",
              "      Upload widget is only available when the cell has been executed in the\n",
              "      current browser session. Please rerun this cell to enable.\n",
              "      </output>\n",
              "      <script>// Copyright 2017 Google LLC\n",
              "//\n",
              "// Licensed under the Apache License, Version 2.0 (the \"License\");\n",
              "// you may not use this file except in compliance with the License.\n",
              "// You may obtain a copy of the License at\n",
              "//\n",
              "//      http://www.apache.org/licenses/LICENSE-2.0\n",
              "//\n",
              "// Unless required by applicable law or agreed to in writing, software\n",
              "// distributed under the License is distributed on an \"AS IS\" BASIS,\n",
              "// WITHOUT WARRANTIES OR CONDITIONS OF ANY KIND, either express or implied.\n",
              "// See the License for the specific language governing permissions and\n",
              "// limitations under the License.\n",
              "\n",
              "/**\n",
              " * @fileoverview Helpers for google.colab Python module.\n",
              " */\n",
              "(function(scope) {\n",
              "function span(text, styleAttributes = {}) {\n",
              "  const element = document.createElement('span');\n",
              "  element.textContent = text;\n",
              "  for (const key of Object.keys(styleAttributes)) {\n",
              "    element.style[key] = styleAttributes[key];\n",
              "  }\n",
              "  return element;\n",
              "}\n",
              "\n",
              "// Max number of bytes which will be uploaded at a time.\n",
              "const MAX_PAYLOAD_SIZE = 100 * 1024;\n",
              "\n",
              "function _uploadFiles(inputId, outputId) {\n",
              "  const steps = uploadFilesStep(inputId, outputId);\n",
              "  const outputElement = document.getElementById(outputId);\n",
              "  // Cache steps on the outputElement to make it available for the next call\n",
              "  // to uploadFilesContinue from Python.\n",
              "  outputElement.steps = steps;\n",
              "\n",
              "  return _uploadFilesContinue(outputId);\n",
              "}\n",
              "\n",
              "// This is roughly an async generator (not supported in the browser yet),\n",
              "// where there are multiple asynchronous steps and the Python side is going\n",
              "// to poll for completion of each step.\n",
              "// This uses a Promise to block the python side on completion of each step,\n",
              "// then passes the result of the previous step as the input to the next step.\n",
              "function _uploadFilesContinue(outputId) {\n",
              "  const outputElement = document.getElementById(outputId);\n",
              "  const steps = outputElement.steps;\n",
              "\n",
              "  const next = steps.next(outputElement.lastPromiseValue);\n",
              "  return Promise.resolve(next.value.promise).then((value) => {\n",
              "    // Cache the last promise value to make it available to the next\n",
              "    // step of the generator.\n",
              "    outputElement.lastPromiseValue = value;\n",
              "    return next.value.response;\n",
              "  });\n",
              "}\n",
              "\n",
              "/**\n",
              " * Generator function which is called between each async step of the upload\n",
              " * process.\n",
              " * @param {string} inputId Element ID of the input file picker element.\n",
              " * @param {string} outputId Element ID of the output display.\n",
              " * @return {!Iterable<!Object>} Iterable of next steps.\n",
              " */\n",
              "function* uploadFilesStep(inputId, outputId) {\n",
              "  const inputElement = document.getElementById(inputId);\n",
              "  inputElement.disabled = false;\n",
              "\n",
              "  const outputElement = document.getElementById(outputId);\n",
              "  outputElement.innerHTML = '';\n",
              "\n",
              "  const pickedPromise = new Promise((resolve) => {\n",
              "    inputElement.addEventListener('change', (e) => {\n",
              "      resolve(e.target.files);\n",
              "    });\n",
              "  });\n",
              "\n",
              "  const cancel = document.createElement('button');\n",
              "  inputElement.parentElement.appendChild(cancel);\n",
              "  cancel.textContent = 'Cancel upload';\n",
              "  const cancelPromise = new Promise((resolve) => {\n",
              "    cancel.onclick = () => {\n",
              "      resolve(null);\n",
              "    };\n",
              "  });\n",
              "\n",
              "  // Wait for the user to pick the files.\n",
              "  const files = yield {\n",
              "    promise: Promise.race([pickedPromise, cancelPromise]),\n",
              "    response: {\n",
              "      action: 'starting',\n",
              "    }\n",
              "  };\n",
              "\n",
              "  cancel.remove();\n",
              "\n",
              "  // Disable the input element since further picks are not allowed.\n",
              "  inputElement.disabled = true;\n",
              "\n",
              "  if (!files) {\n",
              "    return {\n",
              "      response: {\n",
              "        action: 'complete',\n",
              "      }\n",
              "    };\n",
              "  }\n",
              "\n",
              "  for (const file of files) {\n",
              "    const li = document.createElement('li');\n",
              "    li.append(span(file.name, {fontWeight: 'bold'}));\n",
              "    li.append(span(\n",
              "        `(${file.type || 'n/a'}) - ${file.size} bytes, ` +\n",
              "        `last modified: ${\n",
              "            file.lastModifiedDate ? file.lastModifiedDate.toLocaleDateString() :\n",
              "                                    'n/a'} - `));\n",
              "    const percent = span('0% done');\n",
              "    li.appendChild(percent);\n",
              "\n",
              "    outputElement.appendChild(li);\n",
              "\n",
              "    const fileDataPromise = new Promise((resolve) => {\n",
              "      const reader = new FileReader();\n",
              "      reader.onload = (e) => {\n",
              "        resolve(e.target.result);\n",
              "      };\n",
              "      reader.readAsArrayBuffer(file);\n",
              "    });\n",
              "    // Wait for the data to be ready.\n",
              "    let fileData = yield {\n",
              "      promise: fileDataPromise,\n",
              "      response: {\n",
              "        action: 'continue',\n",
              "      }\n",
              "    };\n",
              "\n",
              "    // Use a chunked sending to avoid message size limits. See b/62115660.\n",
              "    let position = 0;\n",
              "    do {\n",
              "      const length = Math.min(fileData.byteLength - position, MAX_PAYLOAD_SIZE);\n",
              "      const chunk = new Uint8Array(fileData, position, length);\n",
              "      position += length;\n",
              "\n",
              "      const base64 = btoa(String.fromCharCode.apply(null, chunk));\n",
              "      yield {\n",
              "        response: {\n",
              "          action: 'append',\n",
              "          file: file.name,\n",
              "          data: base64,\n",
              "        },\n",
              "      };\n",
              "\n",
              "      let percentDone = fileData.byteLength === 0 ?\n",
              "          100 :\n",
              "          Math.round((position / fileData.byteLength) * 100);\n",
              "      percent.textContent = `${percentDone}% done`;\n",
              "\n",
              "    } while (position < fileData.byteLength);\n",
              "  }\n",
              "\n",
              "  // All done.\n",
              "  yield {\n",
              "    response: {\n",
              "      action: 'complete',\n",
              "    }\n",
              "  };\n",
              "}\n",
              "\n",
              "scope.google = scope.google || {};\n",
              "scope.google.colab = scope.google.colab || {};\n",
              "scope.google.colab._files = {\n",
              "  _uploadFiles,\n",
              "  _uploadFilesContinue,\n",
              "};\n",
              "})(self);\n",
              "</script> "
            ]
          },
          "metadata": {}
        },
        {
          "output_type": "stream",
          "name": "stdout",
          "text": [
            "Saving mega_sena_asloterias_ate_concurso_2550_sorteio.xlsx to mega_sena_asloterias_ate_concurso_2550_sorteio.xlsx\n"
          ]
        }
      ]
    },
    {
      "cell_type": "markdown",
      "source": [
        "#Analisando todos os sorteios da megasena até agora"
      ],
      "metadata": {
        "id": "_H1ARrnc5yW4"
      }
    },
    {
      "cell_type": "code",
      "source": [
        "#Baixando data\n",
        "url = '/content/mega_sena_asloterias_ate_concurso_2550_sorteio.xlsx'\n",
        "Df = pd.read_excel(url)"
      ],
      "metadata": {
        "id": "WKLh-_G5CqCc"
      },
      "execution_count": 29,
      "outputs": []
    },
    {
      "cell_type": "code",
      "source": [
        "Df.head()"
      ],
      "metadata": {
        "id": "TZW7dURfG58S",
        "colab": {
          "base_uri": "https://localhost:8080/",
          "height": 206
        },
        "outputId": "9ba43e3d-ca7d-48ba-c982-3dc352b6669f"
      },
      "execution_count": 30,
      "outputs": [
        {
          "output_type": "execute_result",
          "data": {
            "text/plain": [
              "  As Loterias - www.asloterias.com.br - Todos Resultados da Mega Sena  \\\n",
              "0  Este arquivo foi baixado no site www.asloteria...                    \n",
              "1  Visite o site para baixar a versão mais atuali...                    \n",
              "2                                                NaN                    \n",
              "3  TODOS RESULTADOS DA MEGA SENA POR ORDEM DE SOR...                    \n",
              "4                                                NaN                    \n",
              "\n",
              "  Unnamed: 1 Unnamed: 2 Unnamed: 3 Unnamed: 4 Unnamed: 5 Unnamed: 6 Unnamed: 7  \n",
              "0        NaN        NaN        NaN        NaN        NaN        NaN        NaN  \n",
              "1        NaN        NaN        NaN        NaN        NaN        NaN        NaN  \n",
              "2        NaN        NaN        NaN        NaN        NaN        NaN        NaN  \n",
              "3        NaN        NaN        NaN        NaN        NaN        NaN        NaN  \n",
              "4        NaN        NaN        NaN        NaN        NaN        NaN        NaN  "
            ],
            "text/html": [
              "\n",
              "  <div id=\"df-182f2258-7a2c-45c6-a765-9bd4dec9a7d5\">\n",
              "    <div class=\"colab-df-container\">\n",
              "      <div>\n",
              "<style scoped>\n",
              "    .dataframe tbody tr th:only-of-type {\n",
              "        vertical-align: middle;\n",
              "    }\n",
              "\n",
              "    .dataframe tbody tr th {\n",
              "        vertical-align: top;\n",
              "    }\n",
              "\n",
              "    .dataframe thead th {\n",
              "        text-align: right;\n",
              "    }\n",
              "</style>\n",
              "<table border=\"1\" class=\"dataframe\">\n",
              "  <thead>\n",
              "    <tr style=\"text-align: right;\">\n",
              "      <th></th>\n",
              "      <th>As Loterias - www.asloterias.com.br - Todos Resultados da Mega Sena</th>\n",
              "      <th>Unnamed: 1</th>\n",
              "      <th>Unnamed: 2</th>\n",
              "      <th>Unnamed: 3</th>\n",
              "      <th>Unnamed: 4</th>\n",
              "      <th>Unnamed: 5</th>\n",
              "      <th>Unnamed: 6</th>\n",
              "      <th>Unnamed: 7</th>\n",
              "    </tr>\n",
              "  </thead>\n",
              "  <tbody>\n",
              "    <tr>\n",
              "      <th>0</th>\n",
              "      <td>Este arquivo foi baixado no site www.asloteria...</td>\n",
              "      <td>NaN</td>\n",
              "      <td>NaN</td>\n",
              "      <td>NaN</td>\n",
              "      <td>NaN</td>\n",
              "      <td>NaN</td>\n",
              "      <td>NaN</td>\n",
              "      <td>NaN</td>\n",
              "    </tr>\n",
              "    <tr>\n",
              "      <th>1</th>\n",
              "      <td>Visite o site para baixar a versão mais atuali...</td>\n",
              "      <td>NaN</td>\n",
              "      <td>NaN</td>\n",
              "      <td>NaN</td>\n",
              "      <td>NaN</td>\n",
              "      <td>NaN</td>\n",
              "      <td>NaN</td>\n",
              "      <td>NaN</td>\n",
              "    </tr>\n",
              "    <tr>\n",
              "      <th>2</th>\n",
              "      <td>NaN</td>\n",
              "      <td>NaN</td>\n",
              "      <td>NaN</td>\n",
              "      <td>NaN</td>\n",
              "      <td>NaN</td>\n",
              "      <td>NaN</td>\n",
              "      <td>NaN</td>\n",
              "      <td>NaN</td>\n",
              "    </tr>\n",
              "    <tr>\n",
              "      <th>3</th>\n",
              "      <td>TODOS RESULTADOS DA MEGA SENA POR ORDEM DE SOR...</td>\n",
              "      <td>NaN</td>\n",
              "      <td>NaN</td>\n",
              "      <td>NaN</td>\n",
              "      <td>NaN</td>\n",
              "      <td>NaN</td>\n",
              "      <td>NaN</td>\n",
              "      <td>NaN</td>\n",
              "    </tr>\n",
              "    <tr>\n",
              "      <th>4</th>\n",
              "      <td>NaN</td>\n",
              "      <td>NaN</td>\n",
              "      <td>NaN</td>\n",
              "      <td>NaN</td>\n",
              "      <td>NaN</td>\n",
              "      <td>NaN</td>\n",
              "      <td>NaN</td>\n",
              "      <td>NaN</td>\n",
              "    </tr>\n",
              "  </tbody>\n",
              "</table>\n",
              "</div>\n",
              "      <button class=\"colab-df-convert\" onclick=\"convertToInteractive('df-182f2258-7a2c-45c6-a765-9bd4dec9a7d5')\"\n",
              "              title=\"Convert this dataframe to an interactive table.\"\n",
              "              style=\"display:none;\">\n",
              "        \n",
              "  <svg xmlns=\"http://www.w3.org/2000/svg\" height=\"24px\"viewBox=\"0 0 24 24\"\n",
              "       width=\"24px\">\n",
              "    <path d=\"M0 0h24v24H0V0z\" fill=\"none\"/>\n",
              "    <path d=\"M18.56 5.44l.94 2.06.94-2.06 2.06-.94-2.06-.94-.94-2.06-.94 2.06-2.06.94zm-11 1L8.5 8.5l.94-2.06 2.06-.94-2.06-.94L8.5 2.5l-.94 2.06-2.06.94zm10 10l.94 2.06.94-2.06 2.06-.94-2.06-.94-.94-2.06-.94 2.06-2.06.94z\"/><path d=\"M17.41 7.96l-1.37-1.37c-.4-.4-.92-.59-1.43-.59-.52 0-1.04.2-1.43.59L10.3 9.45l-7.72 7.72c-.78.78-.78 2.05 0 2.83L4 21.41c.39.39.9.59 1.41.59.51 0 1.02-.2 1.41-.59l7.78-7.78 2.81-2.81c.8-.78.8-2.07 0-2.86zM5.41 20L4 18.59l7.72-7.72 1.47 1.35L5.41 20z\"/>\n",
              "  </svg>\n",
              "      </button>\n",
              "      \n",
              "  <style>\n",
              "    .colab-df-container {\n",
              "      display:flex;\n",
              "      flex-wrap:wrap;\n",
              "      gap: 12px;\n",
              "    }\n",
              "\n",
              "    .colab-df-convert {\n",
              "      background-color: #E8F0FE;\n",
              "      border: none;\n",
              "      border-radius: 50%;\n",
              "      cursor: pointer;\n",
              "      display: none;\n",
              "      fill: #1967D2;\n",
              "      height: 32px;\n",
              "      padding: 0 0 0 0;\n",
              "      width: 32px;\n",
              "    }\n",
              "\n",
              "    .colab-df-convert:hover {\n",
              "      background-color: #E2EBFA;\n",
              "      box-shadow: 0px 1px 2px rgba(60, 64, 67, 0.3), 0px 1px 3px 1px rgba(60, 64, 67, 0.15);\n",
              "      fill: #174EA6;\n",
              "    }\n",
              "\n",
              "    [theme=dark] .colab-df-convert {\n",
              "      background-color: #3B4455;\n",
              "      fill: #D2E3FC;\n",
              "    }\n",
              "\n",
              "    [theme=dark] .colab-df-convert:hover {\n",
              "      background-color: #434B5C;\n",
              "      box-shadow: 0px 1px 3px 1px rgba(0, 0, 0, 0.15);\n",
              "      filter: drop-shadow(0px 1px 2px rgba(0, 0, 0, 0.3));\n",
              "      fill: #FFFFFF;\n",
              "    }\n",
              "  </style>\n",
              "\n",
              "      <script>\n",
              "        const buttonEl =\n",
              "          document.querySelector('#df-182f2258-7a2c-45c6-a765-9bd4dec9a7d5 button.colab-df-convert');\n",
              "        buttonEl.style.display =\n",
              "          google.colab.kernel.accessAllowed ? 'block' : 'none';\n",
              "\n",
              "        async function convertToInteractive(key) {\n",
              "          const element = document.querySelector('#df-182f2258-7a2c-45c6-a765-9bd4dec9a7d5');\n",
              "          const dataTable =\n",
              "            await google.colab.kernel.invokeFunction('convertToInteractive',\n",
              "                                                     [key], {});\n",
              "          if (!dataTable) return;\n",
              "\n",
              "          const docLinkHtml = 'Like what you see? Visit the ' +\n",
              "            '<a target=\"_blank\" href=https://colab.research.google.com/notebooks/data_table.ipynb>data table notebook</a>'\n",
              "            + ' to learn more about interactive tables.';\n",
              "          element.innerHTML = '';\n",
              "          dataTable['output_type'] = 'display_data';\n",
              "          await google.colab.output.renderOutput(dataTable, element);\n",
              "          const docLink = document.createElement('div');\n",
              "          docLink.innerHTML = docLinkHtml;\n",
              "          element.appendChild(docLink);\n",
              "        }\n",
              "      </script>\n",
              "    </div>\n",
              "  </div>\n",
              "  "
            ]
          },
          "metadata": {},
          "execution_count": 30
        }
      ]
    },
    {
      "cell_type": "markdown",
      "source": [
        "Tratando dados, limpando e excluindo"
      ],
      "metadata": {
        "id": "lII2dh3D6Dwc"
      }
    },
    {
      "cell_type": "code",
      "source": [
        "#cleaning row 0 to 5\n",
        "row = [i for i in range(0,6)]\n",
        "#cleaning unused columns\n",
        "col = ['As Loterias - www.asloterias.com.br - Todos Resultados da Mega Sena',\n",
        "       'Unnamed: 1']\n",
        "dr = Df.drop(row)\n",
        "drop = dr.drop(columns = col)"
      ],
      "metadata": {
        "id": "B-VeL5TPHbp2"
      },
      "execution_count": 31,
      "outputs": []
    },
    {
      "cell_type": "code",
      "source": [
        "drop.columns"
      ],
      "metadata": {
        "id": "JNTgHZwFPq3k",
        "colab": {
          "base_uri": "https://localhost:8080/"
        },
        "outputId": "3162f2d9-ba4d-4ba6-fd67-34ec8bddb1da"
      },
      "execution_count": 32,
      "outputs": [
        {
          "output_type": "execute_result",
          "data": {
            "text/plain": [
              "Index(['Unnamed: 2', 'Unnamed: 3', 'Unnamed: 4', 'Unnamed: 5', 'Unnamed: 6',\n",
              "       'Unnamed: 7'],\n",
              "      dtype='object')"
            ]
          },
          "metadata": {},
          "execution_count": 32
        }
      ]
    },
    {
      "cell_type": "code",
      "source": [
        "drop.head()"
      ],
      "metadata": {
        "id": "z1Du7Pl1Qnw4",
        "colab": {
          "base_uri": "https://localhost:8080/",
          "height": 206
        },
        "outputId": "df3aa61d-2206-4023-d90a-f6d825082c72"
      },
      "execution_count": 33,
      "outputs": [
        {
          "output_type": "execute_result",
          "data": {
            "text/plain": [
              "   Unnamed: 2 Unnamed: 3 Unnamed: 4 Unnamed: 5 Unnamed: 6 Unnamed: 7\n",
              "6          59         34          4         58         10          5\n",
              "7          30         10         33          1          6         35\n",
              "8          25         23         29         30          9         15\n",
              "9          37         10         38         25         31         57\n",
              "10         34          3         48         28         23         38"
            ],
            "text/html": [
              "\n",
              "  <div id=\"df-c1c5702e-0db3-4bc5-a15b-383fac39ce72\">\n",
              "    <div class=\"colab-df-container\">\n",
              "      <div>\n",
              "<style scoped>\n",
              "    .dataframe tbody tr th:only-of-type {\n",
              "        vertical-align: middle;\n",
              "    }\n",
              "\n",
              "    .dataframe tbody tr th {\n",
              "        vertical-align: top;\n",
              "    }\n",
              "\n",
              "    .dataframe thead th {\n",
              "        text-align: right;\n",
              "    }\n",
              "</style>\n",
              "<table border=\"1\" class=\"dataframe\">\n",
              "  <thead>\n",
              "    <tr style=\"text-align: right;\">\n",
              "      <th></th>\n",
              "      <th>Unnamed: 2</th>\n",
              "      <th>Unnamed: 3</th>\n",
              "      <th>Unnamed: 4</th>\n",
              "      <th>Unnamed: 5</th>\n",
              "      <th>Unnamed: 6</th>\n",
              "      <th>Unnamed: 7</th>\n",
              "    </tr>\n",
              "  </thead>\n",
              "  <tbody>\n",
              "    <tr>\n",
              "      <th>6</th>\n",
              "      <td>59</td>\n",
              "      <td>34</td>\n",
              "      <td>4</td>\n",
              "      <td>58</td>\n",
              "      <td>10</td>\n",
              "      <td>5</td>\n",
              "    </tr>\n",
              "    <tr>\n",
              "      <th>7</th>\n",
              "      <td>30</td>\n",
              "      <td>10</td>\n",
              "      <td>33</td>\n",
              "      <td>1</td>\n",
              "      <td>6</td>\n",
              "      <td>35</td>\n",
              "    </tr>\n",
              "    <tr>\n",
              "      <th>8</th>\n",
              "      <td>25</td>\n",
              "      <td>23</td>\n",
              "      <td>29</td>\n",
              "      <td>30</td>\n",
              "      <td>9</td>\n",
              "      <td>15</td>\n",
              "    </tr>\n",
              "    <tr>\n",
              "      <th>9</th>\n",
              "      <td>37</td>\n",
              "      <td>10</td>\n",
              "      <td>38</td>\n",
              "      <td>25</td>\n",
              "      <td>31</td>\n",
              "      <td>57</td>\n",
              "    </tr>\n",
              "    <tr>\n",
              "      <th>10</th>\n",
              "      <td>34</td>\n",
              "      <td>3</td>\n",
              "      <td>48</td>\n",
              "      <td>28</td>\n",
              "      <td>23</td>\n",
              "      <td>38</td>\n",
              "    </tr>\n",
              "  </tbody>\n",
              "</table>\n",
              "</div>\n",
              "      <button class=\"colab-df-convert\" onclick=\"convertToInteractive('df-c1c5702e-0db3-4bc5-a15b-383fac39ce72')\"\n",
              "              title=\"Convert this dataframe to an interactive table.\"\n",
              "              style=\"display:none;\">\n",
              "        \n",
              "  <svg xmlns=\"http://www.w3.org/2000/svg\" height=\"24px\"viewBox=\"0 0 24 24\"\n",
              "       width=\"24px\">\n",
              "    <path d=\"M0 0h24v24H0V0z\" fill=\"none\"/>\n",
              "    <path d=\"M18.56 5.44l.94 2.06.94-2.06 2.06-.94-2.06-.94-.94-2.06-.94 2.06-2.06.94zm-11 1L8.5 8.5l.94-2.06 2.06-.94-2.06-.94L8.5 2.5l-.94 2.06-2.06.94zm10 10l.94 2.06.94-2.06 2.06-.94-2.06-.94-.94-2.06-.94 2.06-2.06.94z\"/><path d=\"M17.41 7.96l-1.37-1.37c-.4-.4-.92-.59-1.43-.59-.52 0-1.04.2-1.43.59L10.3 9.45l-7.72 7.72c-.78.78-.78 2.05 0 2.83L4 21.41c.39.39.9.59 1.41.59.51 0 1.02-.2 1.41-.59l7.78-7.78 2.81-2.81c.8-.78.8-2.07 0-2.86zM5.41 20L4 18.59l7.72-7.72 1.47 1.35L5.41 20z\"/>\n",
              "  </svg>\n",
              "      </button>\n",
              "      \n",
              "  <style>\n",
              "    .colab-df-container {\n",
              "      display:flex;\n",
              "      flex-wrap:wrap;\n",
              "      gap: 12px;\n",
              "    }\n",
              "\n",
              "    .colab-df-convert {\n",
              "      background-color: #E8F0FE;\n",
              "      border: none;\n",
              "      border-radius: 50%;\n",
              "      cursor: pointer;\n",
              "      display: none;\n",
              "      fill: #1967D2;\n",
              "      height: 32px;\n",
              "      padding: 0 0 0 0;\n",
              "      width: 32px;\n",
              "    }\n",
              "\n",
              "    .colab-df-convert:hover {\n",
              "      background-color: #E2EBFA;\n",
              "      box-shadow: 0px 1px 2px rgba(60, 64, 67, 0.3), 0px 1px 3px 1px rgba(60, 64, 67, 0.15);\n",
              "      fill: #174EA6;\n",
              "    }\n",
              "\n",
              "    [theme=dark] .colab-df-convert {\n",
              "      background-color: #3B4455;\n",
              "      fill: #D2E3FC;\n",
              "    }\n",
              "\n",
              "    [theme=dark] .colab-df-convert:hover {\n",
              "      background-color: #434B5C;\n",
              "      box-shadow: 0px 1px 3px 1px rgba(0, 0, 0, 0.15);\n",
              "      filter: drop-shadow(0px 1px 2px rgba(0, 0, 0, 0.3));\n",
              "      fill: #FFFFFF;\n",
              "    }\n",
              "  </style>\n",
              "\n",
              "      <script>\n",
              "        const buttonEl =\n",
              "          document.querySelector('#df-c1c5702e-0db3-4bc5-a15b-383fac39ce72 button.colab-df-convert');\n",
              "        buttonEl.style.display =\n",
              "          google.colab.kernel.accessAllowed ? 'block' : 'none';\n",
              "\n",
              "        async function convertToInteractive(key) {\n",
              "          const element = document.querySelector('#df-c1c5702e-0db3-4bc5-a15b-383fac39ce72');\n",
              "          const dataTable =\n",
              "            await google.colab.kernel.invokeFunction('convertToInteractive',\n",
              "                                                     [key], {});\n",
              "          if (!dataTable) return;\n",
              "\n",
              "          const docLinkHtml = 'Like what you see? Visit the ' +\n",
              "            '<a target=\"_blank\" href=https://colab.research.google.com/notebooks/data_table.ipynb>data table notebook</a>'\n",
              "            + ' to learn more about interactive tables.';\n",
              "          element.innerHTML = '';\n",
              "          dataTable['output_type'] = 'display_data';\n",
              "          await google.colab.output.renderOutput(dataTable, element);\n",
              "          const docLink = document.createElement('div');\n",
              "          docLink.innerHTML = docLinkHtml;\n",
              "          element.appendChild(docLink);\n",
              "        }\n",
              "      </script>\n",
              "    </div>\n",
              "  </div>\n",
              "  "
            ]
          },
          "metadata": {},
          "execution_count": 33
        }
      ]
    },
    {
      "cell_type": "code",
      "source": [
        "#converting data frame to list\n",
        "sorteios = drop.values.tolist()"
      ],
      "metadata": {
        "id": "3vK2u6N-khkt"
      },
      "execution_count": 34,
      "outputs": []
    },
    {
      "cell_type": "code",
      "source": [
        "#Checando os 12 primeiros sorteios\n",
        "sorteios[:12]"
      ],
      "metadata": {
        "id": "ePNwurHZ0FIp",
        "colab": {
          "base_uri": "https://localhost:8080/"
        },
        "outputId": "ac29fadd-6ece-41e6-95d9-ac0028843461"
      },
      "execution_count": 37,
      "outputs": [
        {
          "output_type": "execute_result",
          "data": {
            "text/plain": [
              "[[59, 34, 4, 58, 10, 5],\n",
              " [30, 10, 33, 1, 6, 35],\n",
              " [25, 23, 29, 30, 9, 15],\n",
              " [37, 10, 38, 25, 31, 57],\n",
              " [34, 3, 48, 28, 23, 38],\n",
              " [57, 36, 32, 39, 20, 23],\n",
              " [25, 56, 55, 38, 45, 53],\n",
              " [46, 5, 53, 2, 27, 30],\n",
              " [25, 22, 12, 26, 55, 20],\n",
              " [47, 45, 28, 59, 10, 57],\n",
              " [28, 8, 49, 34, 41, 2],\n",
              " [59, 36, 23, 1, 33, 32]]"
            ]
          },
          "metadata": {},
          "execution_count": 37
        }
      ]
    },
    {
      "cell_type": "code",
      "source": [
        "#Downloading sorteios list\n",
        "drop.to_csv('sorteiosMega.csv')\n",
        "files.download('sorteiosMega.csv')"
      ],
      "metadata": {
        "colab": {
          "base_uri": "https://localhost:8080/",
          "height": 17
        },
        "id": "7xlbRaeJB3vg",
        "outputId": "e8bc0ddb-bcd7-47ee-cb43-a4f29409746b"
      },
      "execution_count": 38,
      "outputs": [
        {
          "output_type": "display_data",
          "data": {
            "text/plain": [
              "<IPython.core.display.Javascript object>"
            ],
            "application/javascript": [
              "\n",
              "    async function download(id, filename, size) {\n",
              "      if (!google.colab.kernel.accessAllowed) {\n",
              "        return;\n",
              "      }\n",
              "      const div = document.createElement('div');\n",
              "      const label = document.createElement('label');\n",
              "      label.textContent = `Downloading \"${filename}\": `;\n",
              "      div.appendChild(label);\n",
              "      const progress = document.createElement('progress');\n",
              "      progress.max = size;\n",
              "      div.appendChild(progress);\n",
              "      document.body.appendChild(div);\n",
              "\n",
              "      const buffers = [];\n",
              "      let downloaded = 0;\n",
              "\n",
              "      const channel = await google.colab.kernel.comms.open(id);\n",
              "      // Send a message to notify the kernel that we're ready.\n",
              "      channel.send({})\n",
              "\n",
              "      for await (const message of channel.messages) {\n",
              "        // Send a message to notify the kernel that we're ready.\n",
              "        channel.send({})\n",
              "        if (message.buffers) {\n",
              "          for (const buffer of message.buffers) {\n",
              "            buffers.push(buffer);\n",
              "            downloaded += buffer.byteLength;\n",
              "            progress.value = downloaded;\n",
              "          }\n",
              "        }\n",
              "      }\n",
              "      const blob = new Blob(buffers, {type: 'application/binary'});\n",
              "      const a = document.createElement('a');\n",
              "      a.href = window.URL.createObjectURL(blob);\n",
              "      a.download = filename;\n",
              "      div.appendChild(a);\n",
              "      a.click();\n",
              "      div.remove();\n",
              "    }\n",
              "  "
            ]
          },
          "metadata": {}
        },
        {
          "output_type": "display_data",
          "data": {
            "text/plain": [
              "<IPython.core.display.Javascript object>"
            ],
            "application/javascript": [
              "download(\"download_9e1d7413-f447-411b-84fc-627cc0c5fc8c\", \"sorteiosMega.csv\", 55335)"
            ]
          },
          "metadata": {}
        }
      ]
    },
    {
      "cell_type": "code",
      "source": [
        "#Analisando quantos jogos possuem ao menos 1 par de números sequenciais\n",
        "gamesCount = 0\n",
        "minimo = 0\n",
        "limiteIndex = 5\n",
        "for i in sorteios:\n",
        "  #organizando as listas em ordem crescente\n",
        "  i = sorted(i)\n",
        "  for j in range(len(i)):\n",
        "    if ((j+1)<limiteIndex) and (i[j]==i[j+1]-1):\n",
        "      gamesCount+=1\n",
        "      minimo+=1\n",
        "      #se for encontrada uma sequencia, não precisa continuar\n",
        "      if minimo >1:\n",
        "        minimo = 0\n",
        "        break\n",
        "print('Número de jogos com ao menos uma sequencia: {}; Porcentagem: {}%'.format(gamesCount,round(100*(gamesCount/len(sorteios)),2)))"
      ],
      "metadata": {
        "colab": {
          "base_uri": "https://localhost:8080/"
        },
        "id": "0yhL4au6DYet",
        "outputId": "87839589-c792-471e-cfe9-1a8442266770"
      },
      "execution_count": 39,
      "outputs": [
        {
          "output_type": "stream",
          "name": "stdout",
          "text": [
            "Número de jogos com ao menos uma sequencia: 945; Porcentagem: 37.06%\n"
          ]
        }
      ]
    },
    {
      "cell_type": "markdown",
      "source": [
        "Com todos os sorteios em forma de lista, agora podemos analisar as somas e plotar um histograma, assim como rodar estatísticas"
      ],
      "metadata": {
        "id": "cXSqlNw46SYF"
      }
    },
    {
      "cell_type": "code",
      "source": [
        "somasSorteios = []\n",
        "for i in sorteios:\n",
        "  somasSorteios.append(sum(i))\n",
        "plt.hist(somasSorteios,bins = 324);"
      ],
      "metadata": {
        "id": "Vrnii_Wi0Si0",
        "colab": {
          "base_uri": "https://localhost:8080/",
          "height": 265
        },
        "outputId": "d1973217-edae-4190-c8ee-cdefadba22e2"
      },
      "execution_count": 40,
      "outputs": [
        {
          "output_type": "display_data",
          "data": {
            "text/plain": [
              "<Figure size 432x288 with 1 Axes>"
            ],
            "image/png": "[encoded data removed]"
          },
          "metadata": {
            "needs_background": "light"
          }
        }
      ]
    },
    {
      "cell_type": "code",
      "source": [
        "estatistic = pd.DataFrame({'sorteios':somasSorteios})\n",
        "estatistic.head()"
      ],
      "metadata": {
        "id": "84Yy4Y-01fDS",
        "colab": {
          "base_uri": "https://localhost:8080/",
          "height": 206
        },
        "outputId": "dfed2d98-8b18-4bac-ff2e-0521a7cd04d7"
      },
      "execution_count": 41,
      "outputs": [
        {
          "output_type": "execute_result",
          "data": {
            "text/plain": [
              "   sorteios\n",
              "0       170\n",
              "1       115\n",
              "2       131\n",
              "3       198\n",
              "4       174"
            ],
            "text/html": [
              "\n",
              "  <div id=\"df-59e25c0b-43f2-4747-94d9-ea82ffb5a3c9\">\n",
              "    <div class=\"colab-df-container\">\n",
              "      <div>\n",
              "<style scoped>\n",
              "    .dataframe tbody tr th:only-of-type {\n",
              "        vertical-align: middle;\n",
              "    }\n",
              "\n",
              "    .dataframe tbody tr th {\n",
              "        vertical-align: top;\n",
              "    }\n",
              "\n",
              "    .dataframe thead th {\n",
              "        text-align: right;\n",
              "    }\n",
              "</style>\n",
              "<table border=\"1\" class=\"dataframe\">\n",
              "  <thead>\n",
              "    <tr style=\"text-align: right;\">\n",
              "      <th></th>\n",
              "      <th>sorteios</th>\n",
              "    </tr>\n",
              "  </thead>\n",
              "  <tbody>\n",
              "    <tr>\n",
              "      <th>0</th>\n",
              "      <td>170</td>\n",
              "    </tr>\n",
              "    <tr>\n",
              "      <th>1</th>\n",
              "      <td>115</td>\n",
              "    </tr>\n",
              "    <tr>\n",
              "      <th>2</th>\n",
              "      <td>131</td>\n",
              "    </tr>\n",
              "    <tr>\n",
              "      <th>3</th>\n",
              "      <td>198</td>\n",
              "    </tr>\n",
              "    <tr>\n",
              "      <th>4</th>\n",
              "      <td>174</td>\n",
              "    </tr>\n",
              "  </tbody>\n",
              "</table>\n",
              "</div>\n",
              "      <button class=\"colab-df-convert\" onclick=\"convertToInteractive('df-59e25c0b-43f2-4747-94d9-ea82ffb5a3c9')\"\n",
              "              title=\"Convert this dataframe to an interactive table.\"\n",
              "              style=\"display:none;\">\n",
              "        \n",
              "  <svg xmlns=\"http://www.w3.org/2000/svg\" height=\"24px\"viewBox=\"0 0 24 24\"\n",
              "       width=\"24px\">\n",
              "    <path d=\"M0 0h24v24H0V0z\" fill=\"none\"/>\n",
              "    <path d=\"M18.56 5.44l.94 2.06.94-2.06 2.06-.94-2.06-.94-.94-2.06-.94 2.06-2.06.94zm-11 1L8.5 8.5l.94-2.06 2.06-.94-2.06-.94L8.5 2.5l-.94 2.06-2.06.94zm10 10l.94 2.06.94-2.06 2.06-.94-2.06-.94-.94-2.06-.94 2.06-2.06.94z\"/><path d=\"M17.41 7.96l-1.37-1.37c-.4-.4-.92-.59-1.43-.59-.52 0-1.04.2-1.43.59L10.3 9.45l-7.72 7.72c-.78.78-.78 2.05 0 2.83L4 21.41c.39.39.9.59 1.41.59.51 0 1.02-.2 1.41-.59l7.78-7.78 2.81-2.81c.8-.78.8-2.07 0-2.86zM5.41 20L4 18.59l7.72-7.72 1.47 1.35L5.41 20z\"/>\n",
              "  </svg>\n",
              "      </button>\n",
              "      \n",
              "  <style>\n",
              "    .colab-df-container {\n",
              "      display:flex;\n",
              "      flex-wrap:wrap;\n",
              "      gap: 12px;\n",
              "    }\n",
              "\n",
              "    .colab-df-convert {\n",
              "      background-color: #E8F0FE;\n",
              "      border: none;\n",
              "      border-radius: 50%;\n",
              "      cursor: pointer;\n",
              "      display: none;\n",
              "      fill: #1967D2;\n",
              "      height: 32px;\n",
              "      padding: 0 0 0 0;\n",
              "      width: 32px;\n",
              "    }\n",
              "\n",
              "    .colab-df-convert:hover {\n",
              "      background-color: #E2EBFA;\n",
              "      box-shadow: 0px 1px 2px rgba(60, 64, 67, 0.3), 0px 1px 3px 1px rgba(60, 64, 67, 0.15);\n",
              "      fill: #174EA6;\n",
              "    }\n",
              "\n",
              "    [theme=dark] .colab-df-convert {\n",
              "      background-color: #3B4455;\n",
              "      fill: #D2E3FC;\n",
              "    }\n",
              "\n",
              "    [theme=dark] .colab-df-convert:hover {\n",
              "      background-color: #434B5C;\n",
              "      box-shadow: 0px 1px 3px 1px rgba(0, 0, 0, 0.15);\n",
              "      filter: drop-shadow(0px 1px 2px rgba(0, 0, 0, 0.3));\n",
              "      fill: #FFFFFF;\n",
              "    }\n",
              "  </style>\n",
              "\n",
              "      <script>\n",
              "        const buttonEl =\n",
              "          document.querySelector('#df-59e25c0b-43f2-4747-94d9-ea82ffb5a3c9 button.colab-df-convert');\n",
              "        buttonEl.style.display =\n",
              "          google.colab.kernel.accessAllowed ? 'block' : 'none';\n",
              "\n",
              "        async function convertToInteractive(key) {\n",
              "          const element = document.querySelector('#df-59e25c0b-43f2-4747-94d9-ea82ffb5a3c9');\n",
              "          const dataTable =\n",
              "            await google.colab.kernel.invokeFunction('convertToInteractive',\n",
              "                                                     [key], {});\n",
              "          if (!dataTable) return;\n",
              "\n",
              "          const docLinkHtml = 'Like what you see? Visit the ' +\n",
              "            '<a target=\"_blank\" href=https://colab.research.google.com/notebooks/data_table.ipynb>data table notebook</a>'\n",
              "            + ' to learn more about interactive tables.';\n",
              "          element.innerHTML = '';\n",
              "          dataTable['output_type'] = 'display_data';\n",
              "          await google.colab.output.renderOutput(dataTable, element);\n",
              "          const docLink = document.createElement('div');\n",
              "          docLink.innerHTML = docLinkHtml;\n",
              "          element.appendChild(docLink);\n",
              "        }\n",
              "      </script>\n",
              "    </div>\n",
              "  </div>\n",
              "  "
            ]
          },
          "metadata": {},
          "execution_count": 41
        }
      ]
    },
    {
      "cell_type": "code",
      "source": [
        "estatistic.describe()"
      ],
      "metadata": {
        "id": "lMRR4RT22IZf",
        "colab": {
          "base_uri": "https://localhost:8080/",
          "height": 300
        },
        "outputId": "0f263fec-8965-4c47-ea83-c79a21c90a98"
      },
      "execution_count": 42,
      "outputs": [
        {
          "output_type": "execute_result",
          "data": {
            "text/plain": [
              "          sorteios\n",
              "count  2550.000000\n",
              "mean    183.086667\n",
              "std      40.053494\n",
              "min      66.000000\n",
              "25%     155.000000\n",
              "50%     183.000000\n",
              "75%     211.000000\n",
              "max     331.000000"
            ],
            "text/html": [
              "\n",
              "  <div id=\"df-301fffd5-ddec-4736-a094-d7b6b36763d7\">\n",
              "    <div class=\"colab-df-container\">\n",
              "      <div>\n",
              "<style scoped>\n",
              "    .dataframe tbody tr th:only-of-type {\n",
              "        vertical-align: middle;\n",
              "    }\n",
              "\n",
              "    .dataframe tbody tr th {\n",
              "        vertical-align: top;\n",
              "    }\n",
              "\n",
              "    .dataframe thead th {\n",
              "        text-align: right;\n",
              "    }\n",
              "</style>\n",
              "<table border=\"1\" class=\"dataframe\">\n",
              "  <thead>\n",
              "    <tr style=\"text-align: right;\">\n",
              "      <th></th>\n",
              "      <th>sorteios</th>\n",
              "    </tr>\n",
              "  </thead>\n",
              "  <tbody>\n",
              "    <tr>\n",
              "      <th>count</th>\n",
              "      <td>2550.000000</td>\n",
              "    </tr>\n",
              "    <tr>\n",
              "      <th>mean</th>\n",
              "      <td>183.086667</td>\n",
              "    </tr>\n",
              "    <tr>\n",
              "      <th>std</th>\n",
              "      <td>40.053494</td>\n",
              "    </tr>\n",
              "    <tr>\n",
              "      <th>min</th>\n",
              "      <td>66.000000</td>\n",
              "    </tr>\n",
              "    <tr>\n",
              "      <th>25%</th>\n",
              "      <td>155.000000</td>\n",
              "    </tr>\n",
              "    <tr>\n",
              "      <th>50%</th>\n",
              "      <td>183.000000</td>\n",
              "    </tr>\n",
              "    <tr>\n",
              "      <th>75%</th>\n",
              "      <td>211.000000</td>\n",
              "    </tr>\n",
              "    <tr>\n",
              "      <th>max</th>\n",
              "      <td>331.000000</td>\n",
              "    </tr>\n",
              "  </tbody>\n",
              "</table>\n",
              "</div>\n",
              "      <button class=\"colab-df-convert\" onclick=\"convertToInteractive('df-301fffd5-ddec-4736-a094-d7b6b36763d7')\"\n",
              "              title=\"Convert this dataframe to an interactive table.\"\n",
              "              style=\"display:none;\">\n",
              "        \n",
              "  <svg xmlns=\"http://www.w3.org/2000/svg\" height=\"24px\"viewBox=\"0 0 24 24\"\n",
              "       width=\"24px\">\n",
              "    <path d=\"M0 0h24v24H0V0z\" fill=\"none\"/>\n",
              "    <path d=\"M18.56 5.44l.94 2.06.94-2.06 2.06-.94-2.06-.94-.94-2.06-.94 2.06-2.06.94zm-11 1L8.5 8.5l.94-2.06 2.06-.94-2.06-.94L8.5 2.5l-.94 2.06-2.06.94zm10 10l.94 2.06.94-2.06 2.06-.94-2.06-.94-.94-2.06-.94 2.06-2.06.94z\"/><path d=\"M17.41 7.96l-1.37-1.37c-.4-.4-.92-.59-1.43-.59-.52 0-1.04.2-1.43.59L10.3 9.45l-7.72 7.72c-.78.78-.78 2.05 0 2.83L4 21.41c.39.39.9.59 1.41.59.51 0 1.02-.2 1.41-.59l7.78-7.78 2.81-2.81c.8-.78.8-2.07 0-2.86zM5.41 20L4 18.59l7.72-7.72 1.47 1.35L5.41 20z\"/>\n",
              "  </svg>\n",
              "      </button>\n",
              "      \n",
              "  <style>\n",
              "    .colab-df-container {\n",
              "      display:flex;\n",
              "      flex-wrap:wrap;\n",
              "      gap: 12px;\n",
              "    }\n",
              "\n",
              "    .colab-df-convert {\n",
              "      background-color: #E8F0FE;\n",
              "      border: none;\n",
              "      border-radius: 50%;\n",
              "      cursor: pointer;\n",
              "      display: none;\n",
              "      fill: #1967D2;\n",
              "      height: 32px;\n",
              "      padding: 0 0 0 0;\n",
              "      width: 32px;\n",
              "    }\n",
              "\n",
              "    .colab-df-convert:hover {\n",
              "      background-color: #E2EBFA;\n",
              "      box-shadow: 0px 1px 2px rgba(60, 64, 67, 0.3), 0px 1px 3px 1px rgba(60, 64, 67, 0.15);\n",
              "      fill: #174EA6;\n",
              "    }\n",
              "\n",
              "    [theme=dark] .colab-df-convert {\n",
              "      background-color: #3B4455;\n",
              "      fill: #D2E3FC;\n",
              "    }\n",
              "\n",
              "    [theme=dark] .colab-df-convert:hover {\n",
              "      background-color: #434B5C;\n",
              "      box-shadow: 0px 1px 3px 1px rgba(0, 0, 0, 0.15);\n",
              "      filter: drop-shadow(0px 1px 2px rgba(0, 0, 0, 0.3));\n",
              "      fill: #FFFFFF;\n",
              "    }\n",
              "  </style>\n",
              "\n",
              "      <script>\n",
              "        const buttonEl =\n",
              "          document.querySelector('#df-301fffd5-ddec-4736-a094-d7b6b36763d7 button.colab-df-convert');\n",
              "        buttonEl.style.display =\n",
              "          google.colab.kernel.accessAllowed ? 'block' : 'none';\n",
              "\n",
              "        async function convertToInteractive(key) {\n",
              "          const element = document.querySelector('#df-301fffd5-ddec-4736-a094-d7b6b36763d7');\n",
              "          const dataTable =\n",
              "            await google.colab.kernel.invokeFunction('convertToInteractive',\n",
              "                                                     [key], {});\n",
              "          if (!dataTable) return;\n",
              "\n",
              "          const docLinkHtml = 'Like what you see? Visit the ' +\n",
              "            '<a target=\"_blank\" href=https://colab.research.google.com/notebooks/data_table.ipynb>data table notebook</a>'\n",
              "            + ' to learn more about interactive tables.';\n",
              "          element.innerHTML = '';\n",
              "          dataTable['output_type'] = 'display_data';\n",
              "          await google.colab.output.renderOutput(dataTable, element);\n",
              "          const docLink = document.createElement('div');\n",
              "          docLink.innerHTML = docLinkHtml;\n",
              "          element.appendChild(docLink);\n",
              "        }\n",
              "      </script>\n",
              "    </div>\n",
              "  </div>\n",
              "  "
            ]
          },
          "metadata": {},
          "execution_count": 42
        }
      ]
    },
    {
      "cell_type": "code",
      "source": [
        "st.mode(estatistic)"
      ],
      "metadata": {
        "id": "YVSM17YgF-ZW",
        "colab": {
          "base_uri": "https://localhost:8080/"
        },
        "outputId": "8377625b-263a-439e-f7ee-86c48939880d"
      },
      "execution_count": 43,
      "outputs": [
        {
          "output_type": "execute_result",
          "data": {
            "text/plain": [
              "ModeResult(mode=array([[182]]), count=array([[37]]))"
            ]
          },
          "metadata": {},
          "execution_count": 43
        }
      ]
    },
    {
      "cell_type": "markdown",
      "source": [
        "#Conclusões\n",
        "#####Foram feitas duas simulações, primeiramente a analítica em que foi analisado todo o espaço amostral, e a segunda que usou de números aleatórios para gerar a distribuição de somas. Finalmente, foram analisados resultados reais dos sorteios e comparando as estatísitcas de cada, obtemos:\n",
        "\n",
        "\n",
        "![image.png](data:image/png;base64,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)\n",
        "\n",
        "Os formatos se aproximam de uma distribuição normal, e caso não conheça e tenha interesse, procure sobre o teorema do limite central que explica mais essa correlação de variáveis aleatórias discretas e independentes formarem uma quase curva de sino ou Gaussiana.\n",
        "\n",
        "Para encerrar, nota-se que tanto na simulação analítica e na aleatória, quanto nos dados reais, os sorteios de fato também tendem à soma média entre os possíveis 6 números, assim como no caso descrito originalmente dos dados.\n",
        "Infelizmente a probabilidade não prevê o futuro, mas quem sabe pode nos dar bons palpites nas apostas? Se caso um dos sorteios somar 183, esse filtro de 479632 jogos aumentam as chances em aproximadamente 104 vezes, mas mesmo assim se torna inviável um bolão em que X pessoas apostem em 479632 bilhetes."
      ],
      "metadata": {
        "id": "B8lzCeLR6uwE"
      }
    }
  ]
}