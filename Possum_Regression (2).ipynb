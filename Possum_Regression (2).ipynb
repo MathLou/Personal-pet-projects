{
  "nbformat": 4,
  "nbformat_minor": 0,
  "metadata": {
    "colab": {
      "provenance": []
    },
    "kernelspec": {
      "name": "python3",
      "display_name": "Python 3"
    },
    "language_info": {
      "name": "python"
    },
    "gpuClass": "standard"
  },
  "cells": [
    {
      "cell_type": "markdown",
      "source": [
        "#Possum Regression:\n",
        "determine age by body lengths\n",
        "Data from Kaggle at: https://www.kaggle.com/datasets/abrambeyer/openintro-possum"
      ],
      "metadata": {
        "id": "5wzwWCJeedxr"
      }
    },
    {
      "cell_type": "code",
      "source": [
        "#upload de arquivo do computador\n",
        "from google.colab import files\n",
        "import pandas as pd\n",
        "import numpy as np\n",
        "uploaded = files.upload()"
      ],
      "metadata": {
        "colab": {
          "base_uri": "https://localhost:8080/",
          "height": 73
        },
        "id": "6OdVUWwFel1F",
        "outputId": "e0480098-978e-434b-efd9-1380408f1be4"
      },
      "execution_count": 1,
      "outputs": [
        {
          "output_type": "display_data",
          "data": {
            "text/plain": [
              "<IPython.core.display.HTML object>"
            ],
            "text/html": [
              "\n",
              "     <input type=\"file\" id=\"files-95bfb95a-38dc-444c-acfb-5270954afc22\" name=\"files[]\" multiple disabled\n",
              "        style=\"border:none\" />\n",
              "     <output id=\"result-95bfb95a-38dc-444c-acfb-5270954afc22\">\n",
              "      Upload widget is only available when the cell has been executed in the\n",
              "      current browser session. Please rerun this cell to enable.\n",
              "      </output>\n",
              "      <script>// Copyright 2017 Google LLC\n",
              "//\n",
              "// Licensed under the Apache License, Version 2.0 (the \"License\");\n",
              "// you may not use this file except in compliance with the License.\n",
              "// You may obtain a copy of the License at\n",
              "//\n",
              "//      http://www.apache.org/licenses/LICENSE-2.0\n",
              "//\n",
              "// Unless required by applicable law or agreed to in writing, software\n",
              "// distributed under the License is distributed on an \"AS IS\" BASIS,\n",
              "// WITHOUT WARRANTIES OR CONDITIONS OF ANY KIND, either express or implied.\n",
              "// See the License for the specific language governing permissions and\n",
              "// limitations under the License.\n",
              "\n",
              "/**\n",
              " * @fileoverview Helpers for google.colab Python module.\n",
              " */\n",
              "(function(scope) {\n",
              "function span(text, styleAttributes = {}) {\n",
              "  const element = document.createElement('span');\n",
              "  element.textContent = text;\n",
              "  for (const key of Object.keys(styleAttributes)) {\n",
              "    element.style[key] = styleAttributes[key];\n",
              "  }\n",
              "  return element;\n",
              "}\n",
              "\n",
              "// Max number of bytes which will be uploaded at a time.\n",
              "const MAX_PAYLOAD_SIZE = 100 * 1024;\n",
              "\n",
              "function _uploadFiles(inputId, outputId) {\n",
              "  const steps = uploadFilesStep(inputId, outputId);\n",
              "  const outputElement = document.getElementById(outputId);\n",
              "  // Cache steps on the outputElement to make it available for the next call\n",
              "  // to uploadFilesContinue from Python.\n",
              "  outputElement.steps = steps;\n",
              "\n",
              "  return _uploadFilesContinue(outputId);\n",
              "}\n",
              "\n",
              "// This is roughly an async generator (not supported in the browser yet),\n",
              "// where there are multiple asynchronous steps and the Python side is going\n",
              "// to poll for completion of each step.\n",
              "// This uses a Promise to block the python side on completion of each step,\n",
              "// then passes the result of the previous step as the input to the next step.\n",
              "function _uploadFilesContinue(outputId) {\n",
              "  const outputElement = document.getElementById(outputId);\n",
              "  const steps = outputElement.steps;\n",
              "\n",
              "  const next = steps.next(outputElement.lastPromiseValue);\n",
              "  return Promise.resolve(next.value.promise).then((value) => {\n",
              "    // Cache the last promise value to make it available to the next\n",
              "    // step of the generator.\n",
              "    outputElement.lastPromiseValue = value;\n",
              "    return next.value.response;\n",
              "  });\n",
              "}\n",
              "\n",
              "/**\n",
              " * Generator function which is called between each async step of the upload\n",
              " * process.\n",
              " * @param {string} inputId Element ID of the input file picker element.\n",
              " * @param {string} outputId Element ID of the output display.\n",
              " * @return {!Iterable<!Object>} Iterable of next steps.\n",
              " */\n",
              "function* uploadFilesStep(inputId, outputId) {\n",
              "  const inputElement = document.getElementById(inputId);\n",
              "  inputElement.disabled = false;\n",
              "\n",
              "  const outputElement = document.getElementById(outputId);\n",
              "  outputElement.innerHTML = '';\n",
              "\n",
              "  const pickedPromise = new Promise((resolve) => {\n",
              "    inputElement.addEventListener('change', (e) => {\n",
              "      resolve(e.target.files);\n",
              "    });\n",
              "  });\n",
              "\n",
              "  const cancel = document.createElement('button');\n",
              "  inputElement.parentElement.appendChild(cancel);\n",
              "  cancel.textContent = 'Cancel upload';\n",
              "  const cancelPromise = new Promise((resolve) => {\n",
              "    cancel.onclick = () => {\n",
              "      resolve(null);\n",
              "    };\n",
              "  });\n",
              "\n",
              "  // Wait for the user to pick the files.\n",
              "  const files = yield {\n",
              "    promise: Promise.race([pickedPromise, cancelPromise]),\n",
              "    response: {\n",
              "      action: 'starting',\n",
              "    }\n",
              "  };\n",
              "\n",
              "  cancel.remove();\n",
              "\n",
              "  // Disable the input element since further picks are not allowed.\n",
              "  inputElement.disabled = true;\n",
              "\n",
              "  if (!files) {\n",
              "    return {\n",
              "      response: {\n",
              "        action: 'complete',\n",
              "      }\n",
              "    };\n",
              "  }\n",
              "\n",
              "  for (const file of files) {\n",
              "    const li = document.createElement('li');\n",
              "    li.append(span(file.name, {fontWeight: 'bold'}));\n",
              "    li.append(span(\n",
              "        `(${file.type || 'n/a'}) - ${file.size} bytes, ` +\n",
              "        `last modified: ${\n",
              "            file.lastModifiedDate ? file.lastModifiedDate.toLocaleDateString() :\n",
              "                                    'n/a'} - `));\n",
              "    const percent = span('0% done');\n",
              "    li.appendChild(percent);\n",
              "\n",
              "    outputElement.appendChild(li);\n",
              "\n",
              "    const fileDataPromise = new Promise((resolve) => {\n",
              "      const reader = new FileReader();\n",
              "      reader.onload = (e) => {\n",
              "        resolve(e.target.result);\n",
              "      };\n",
              "      reader.readAsArrayBuffer(file);\n",
              "    });\n",
              "    // Wait for the data to be ready.\n",
              "    let fileData = yield {\n",
              "      promise: fileDataPromise,\n",
              "      response: {\n",
              "        action: 'continue',\n",
              "      }\n",
              "    };\n",
              "\n",
              "    // Use a chunked sending to avoid message size limits. See b/62115660.\n",
              "    let position = 0;\n",
              "    do {\n",
              "      const length = Math.min(fileData.byteLength - position, MAX_PAYLOAD_SIZE);\n",
              "      const chunk = new Uint8Array(fileData, position, length);\n",
              "      position += length;\n",
              "\n",
              "      const base64 = btoa(String.fromCharCode.apply(null, chunk));\n",
              "      yield {\n",
              "        response: {\n",
              "          action: 'append',\n",
              "          file: file.name,\n",
              "          data: base64,\n",
              "        },\n",
              "      };\n",
              "\n",
              "      let percentDone = fileData.byteLength === 0 ?\n",
              "          100 :\n",
              "          Math.round((position / fileData.byteLength) * 100);\n",
              "      percent.textContent = `${percentDone}% done`;\n",
              "\n",
              "    } while (position < fileData.byteLength);\n",
              "  }\n",
              "\n",
              "  // All done.\n",
              "  yield {\n",
              "    response: {\n",
              "      action: 'complete',\n",
              "    }\n",
              "  };\n",
              "}\n",
              "\n",
              "scope.google = scope.google || {};\n",
              "scope.google.colab = scope.google.colab || {};\n",
              "scope.google.colab._files = {\n",
              "  _uploadFiles,\n",
              "  _uploadFilesContinue,\n",
              "};\n",
              "})(self);\n",
              "</script> "
            ]
          },
          "metadata": {}
        },
        {
          "output_type": "stream",
          "name": "stdout",
          "text": [
            "Saving possum.csv to possum.csv\n"
          ]
        }
      ]
    },
    {
      "cell_type": "code",
      "source": [
        "#Baixando data\n",
        "url = '/content/possum.csv'\n",
        "Df = pd.read_csv(url)"
      ],
      "metadata": {
        "id": "bb2Qbg6MfU_j"
      },
      "execution_count": 2,
      "outputs": []
    },
    {
      "cell_type": "code",
      "source": [
        "Df.head()"
      ],
      "metadata": {
        "colab": {
          "base_uri": "https://localhost:8080/",
          "height": 206
        },
        "id": "EqIMaSe2fnyQ",
        "outputId": "1bdb3cc7-3bfb-415c-cb8d-6a5c605f8a46"
      },
      "execution_count": 3,
      "outputs": [
        {
          "output_type": "execute_result",
          "data": {
            "text/plain": [
              "   case  site  Pop sex  age  hdlngth  skullw  totlngth  taill  footlgth  \\\n",
              "0     1     1  Vic   m  8.0     94.1    60.4      89.0   36.0      74.5   \n",
              "1     2     1  Vic   f  6.0     92.5    57.6      91.5   36.5      72.5   \n",
              "2     3     1  Vic   f  6.0     94.0    60.0      95.5   39.0      75.4   \n",
              "3     4     1  Vic   f  6.0     93.2    57.1      92.0   38.0      76.1   \n",
              "4     5     1  Vic   f  2.0     91.5    56.3      85.5   36.0      71.0   \n",
              "\n",
              "   earconch   eye  chest  belly  \n",
              "0      54.5  15.2   28.0   36.0  \n",
              "1      51.2  16.0   28.5   33.0  \n",
              "2      51.9  15.5   30.0   34.0  \n",
              "3      52.2  15.2   28.0   34.0  \n",
              "4      53.2  15.1   28.5   33.0  "
            ],
            "text/html": [
              "\n",
              "  <div id=\"df-d129a4c5-7477-4454-8b1a-ebb669f40d82\">\n",
              "    <div class=\"colab-df-container\">\n",
              "      <div>\n",
              "<style scoped>\n",
              "    .dataframe tbody tr th:only-of-type {\n",
              "        vertical-align: middle;\n",
              "    }\n",
              "\n",
              "    .dataframe tbody tr th {\n",
              "        vertical-align: top;\n",
              "    }\n",
              "\n",
              "    .dataframe thead th {\n",
              "        text-align: right;\n",
              "    }\n",
              "</style>\n",
              "<table border=\"1\" class=\"dataframe\">\n",
              "  <thead>\n",
              "    <tr style=\"text-align: right;\">\n",
              "      <th></th>\n",
              "      <th>case</th>\n",
              "      <th>site</th>\n",
              "      <th>Pop</th>\n",
              "      <th>sex</th>\n",
              "      <th>age</th>\n",
              "      <th>hdlngth</th>\n",
              "      <th>skullw</th>\n",
              "      <th>totlngth</th>\n",
              "      <th>taill</th>\n",
              "      <th>footlgth</th>\n",
              "      <th>earconch</th>\n",
              "      <th>eye</th>\n",
              "      <th>chest</th>\n",
              "      <th>belly</th>\n",
              "    </tr>\n",
              "  </thead>\n",
              "  <tbody>\n",
              "    <tr>\n",
              "      <th>0</th>\n",
              "      <td>1</td>\n",
              "      <td>1</td>\n",
              "      <td>Vic</td>\n",
              "      <td>m</td>\n",
              "      <td>8.0</td>\n",
              "      <td>94.1</td>\n",
              "      <td>60.4</td>\n",
              "      <td>89.0</td>\n",
              "      <td>36.0</td>\n",
              "      <td>74.5</td>\n",
              "      <td>54.5</td>\n",
              "      <td>15.2</td>\n",
              "      <td>28.0</td>\n",
              "      <td>36.0</td>\n",
              "    </tr>\n",
              "    <tr>\n",
              "      <th>1</th>\n",
              "      <td>2</td>\n",
              "      <td>1</td>\n",
              "      <td>Vic</td>\n",
              "      <td>f</td>\n",
              "      <td>6.0</td>\n",
              "      <td>92.5</td>\n",
              "      <td>57.6</td>\n",
              "      <td>91.5</td>\n",
              "      <td>36.5</td>\n",
              "      <td>72.5</td>\n",
              "      <td>51.2</td>\n",
              "      <td>16.0</td>\n",
              "      <td>28.5</td>\n",
              "      <td>33.0</td>\n",
              "    </tr>\n",
              "    <tr>\n",
              "      <th>2</th>\n",
              "      <td>3</td>\n",
              "      <td>1</td>\n",
              "      <td>Vic</td>\n",
              "      <td>f</td>\n",
              "      <td>6.0</td>\n",
              "      <td>94.0</td>\n",
              "      <td>60.0</td>\n",
              "      <td>95.5</td>\n",
              "      <td>39.0</td>\n",
              "      <td>75.4</td>\n",
              "      <td>51.9</td>\n",
              "      <td>15.5</td>\n",
              "      <td>30.0</td>\n",
              "      <td>34.0</td>\n",
              "    </tr>\n",
              "    <tr>\n",
              "      <th>3</th>\n",
              "      <td>4</td>\n",
              "      <td>1</td>\n",
              "      <td>Vic</td>\n",
              "      <td>f</td>\n",
              "      <td>6.0</td>\n",
              "      <td>93.2</td>\n",
              "      <td>57.1</td>\n",
              "      <td>92.0</td>\n",
              "      <td>38.0</td>\n",
              "      <td>76.1</td>\n",
              "      <td>52.2</td>\n",
              "      <td>15.2</td>\n",
              "      <td>28.0</td>\n",
              "      <td>34.0</td>\n",
              "    </tr>\n",
              "    <tr>\n",
              "      <th>4</th>\n",
              "      <td>5</td>\n",
              "      <td>1</td>\n",
              "      <td>Vic</td>\n",
              "      <td>f</td>\n",
              "      <td>2.0</td>\n",
              "      <td>91.5</td>\n",
              "      <td>56.3</td>\n",
              "      <td>85.5</td>\n",
              "      <td>36.0</td>\n",
              "      <td>71.0</td>\n",
              "      <td>53.2</td>\n",
              "      <td>15.1</td>\n",
              "      <td>28.5</td>\n",
              "      <td>33.0</td>\n",
              "    </tr>\n",
              "  </tbody>\n",
              "</table>\n",
              "</div>\n",
              "      <button class=\"colab-df-convert\" onclick=\"convertToInteractive('df-d129a4c5-7477-4454-8b1a-ebb669f40d82')\"\n",
              "              title=\"Convert this dataframe to an interactive table.\"\n",
              "              style=\"display:none;\">\n",
              "        \n",
              "  <svg xmlns=\"http://www.w3.org/2000/svg\" height=\"24px\"viewBox=\"0 0 24 24\"\n",
              "       width=\"24px\">\n",
              "    <path d=\"M0 0h24v24H0V0z\" fill=\"none\"/>\n",
              "    <path d=\"M18.56 5.44l.94 2.06.94-2.06 2.06-.94-2.06-.94-.94-2.06-.94 2.06-2.06.94zm-11 1L8.5 8.5l.94-2.06 2.06-.94-2.06-.94L8.5 2.5l-.94 2.06-2.06.94zm10 10l.94 2.06.94-2.06 2.06-.94-2.06-.94-.94-2.06-.94 2.06-2.06.94z\"/><path d=\"M17.41 7.96l-1.37-1.37c-.4-.4-.92-.59-1.43-.59-.52 0-1.04.2-1.43.59L10.3 9.45l-7.72 7.72c-.78.78-.78 2.05 0 2.83L4 21.41c.39.39.9.59 1.41.59.51 0 1.02-.2 1.41-.59l7.78-7.78 2.81-2.81c.8-.78.8-2.07 0-2.86zM5.41 20L4 18.59l7.72-7.72 1.47 1.35L5.41 20z\"/>\n",
              "  </svg>\n",
              "      </button>\n",
              "      \n",
              "  <style>\n",
              "    .colab-df-container {\n",
              "      display:flex;\n",
              "      flex-wrap:wrap;\n",
              "      gap: 12px;\n",
              "    }\n",
              "\n",
              "    .colab-df-convert {\n",
              "      background-color: #E8F0FE;\n",
              "      border: none;\n",
              "      border-radius: 50%;\n",
              "      cursor: pointer;\n",
              "      display: none;\n",
              "      fill: #1967D2;\n",
              "      height: 32px;\n",
              "      padding: 0 0 0 0;\n",
              "      width: 32px;\n",
              "    }\n",
              "\n",
              "    .colab-df-convert:hover {\n",
              "      background-color: #E2EBFA;\n",
              "      box-shadow: 0px 1px 2px rgba(60, 64, 67, 0.3), 0px 1px 3px 1px rgba(60, 64, 67, 0.15);\n",
              "      fill: #174EA6;\n",
              "    }\n",
              "\n",
              "    [theme=dark] .colab-df-convert {\n",
              "      background-color: #3B4455;\n",
              "      fill: #D2E3FC;\n",
              "    }\n",
              "\n",
              "    [theme=dark] .colab-df-convert:hover {\n",
              "      background-color: #434B5C;\n",
              "      box-shadow: 0px 1px 3px 1px rgba(0, 0, 0, 0.15);\n",
              "      filter: drop-shadow(0px 1px 2px rgba(0, 0, 0, 0.3));\n",
              "      fill: #FFFFFF;\n",
              "    }\n",
              "  </style>\n",
              "\n",
              "      <script>\n",
              "        const buttonEl =\n",
              "          document.querySelector('#df-d129a4c5-7477-4454-8b1a-ebb669f40d82 button.colab-df-convert');\n",
              "        buttonEl.style.display =\n",
              "          google.colab.kernel.accessAllowed ? 'block' : 'none';\n",
              "\n",
              "        async function convertToInteractive(key) {\n",
              "          const element = document.querySelector('#df-d129a4c5-7477-4454-8b1a-ebb669f40d82');\n",
              "          const dataTable =\n",
              "            await google.colab.kernel.invokeFunction('convertToInteractive',\n",
              "                                                     [key], {});\n",
              "          if (!dataTable) return;\n",
              "\n",
              "          const docLinkHtml = 'Like what you see? Visit the ' +\n",
              "            '<a target=\"_blank\" href=https://colab.research.google.com/notebooks/data_table.ipynb>data table notebook</a>'\n",
              "            + ' to learn more about interactive tables.';\n",
              "          element.innerHTML = '';\n",
              "          dataTable['output_type'] = 'display_data';\n",
              "          await google.colab.output.renderOutput(dataTable, element);\n",
              "          const docLink = document.createElement('div');\n",
              "          docLink.innerHTML = docLinkHtml;\n",
              "          element.appendChild(docLink);\n",
              "        }\n",
              "      </script>\n",
              "    </div>\n",
              "  </div>\n",
              "  "
            ]
          },
          "metadata": {},
          "execution_count": 3
        }
      ]
    },
    {
      "cell_type": "code",
      "source": [
        "#let´s drop any Nan rows\n",
        "Df = Df.dropna(axis=0)"
      ],
      "metadata": {
        "id": "sD8ktbai3tx8"
      },
      "execution_count": 4,
      "outputs": []
    },
    {
      "cell_type": "code",
      "source": [
        "#selecting only body lengths, cleaning unused columns\n",
        "col = ['case','site','Pop','sex','age']\n",
        "body_len = Df.drop(columns = col)\n",
        "body_len.head()"
      ],
      "metadata": {
        "colab": {
          "base_uri": "https://localhost:8080/",
          "height": 206
        },
        "id": "I4X2N3atfqJD",
        "outputId": "47546cbb-ec30-43c0-cb6f-f164c9cf0fbc"
      },
      "execution_count": 5,
      "outputs": [
        {
          "output_type": "execute_result",
          "data": {
            "text/plain": [
              "   hdlngth  skullw  totlngth  taill  footlgth  earconch   eye  chest  belly\n",
              "0     94.1    60.4      89.0   36.0      74.5      54.5  15.2   28.0   36.0\n",
              "1     92.5    57.6      91.5   36.5      72.5      51.2  16.0   28.5   33.0\n",
              "2     94.0    60.0      95.5   39.0      75.4      51.9  15.5   30.0   34.0\n",
              "3     93.2    57.1      92.0   38.0      76.1      52.2  15.2   28.0   34.0\n",
              "4     91.5    56.3      85.5   36.0      71.0      53.2  15.1   28.5   33.0"
            ],
            "text/html": [
              "\n",
              "  <div id=\"df-e4cc85b4-05e2-4539-a985-a7b278f7db2b\">\n",
              "    <div class=\"colab-df-container\">\n",
              "      <div>\n",
              "<style scoped>\n",
              "    .dataframe tbody tr th:only-of-type {\n",
              "        vertical-align: middle;\n",
              "    }\n",
              "\n",
              "    .dataframe tbody tr th {\n",
              "        vertical-align: top;\n",
              "    }\n",
              "\n",
              "    .dataframe thead th {\n",
              "        text-align: right;\n",
              "    }\n",
              "</style>\n",
              "<table border=\"1\" class=\"dataframe\">\n",
              "  <thead>\n",
              "    <tr style=\"text-align: right;\">\n",
              "      <th></th>\n",
              "      <th>hdlngth</th>\n",
              "      <th>skullw</th>\n",
              "      <th>totlngth</th>\n",
              "      <th>taill</th>\n",
              "      <th>footlgth</th>\n",
              "      <th>earconch</th>\n",
              "      <th>eye</th>\n",
              "      <th>chest</th>\n",
              "      <th>belly</th>\n",
              "    </tr>\n",
              "  </thead>\n",
              "  <tbody>\n",
              "    <tr>\n",
              "      <th>0</th>\n",
              "      <td>94.1</td>\n",
              "      <td>60.4</td>\n",
              "      <td>89.0</td>\n",
              "      <td>36.0</td>\n",
              "      <td>74.5</td>\n",
              "      <td>54.5</td>\n",
              "      <td>15.2</td>\n",
              "      <td>28.0</td>\n",
              "      <td>36.0</td>\n",
              "    </tr>\n",
              "    <tr>\n",
              "      <th>1</th>\n",
              "      <td>92.5</td>\n",
              "      <td>57.6</td>\n",
              "      <td>91.5</td>\n",
              "      <td>36.5</td>\n",
              "      <td>72.5</td>\n",
              "      <td>51.2</td>\n",
              "      <td>16.0</td>\n",
              "      <td>28.5</td>\n",
              "      <td>33.0</td>\n",
              "    </tr>\n",
              "    <tr>\n",
              "      <th>2</th>\n",
              "      <td>94.0</td>\n",
              "      <td>60.0</td>\n",
              "      <td>95.5</td>\n",
              "      <td>39.0</td>\n",
              "      <td>75.4</td>\n",
              "      <td>51.9</td>\n",
              "      <td>15.5</td>\n",
              "      <td>30.0</td>\n",
              "      <td>34.0</td>\n",
              "    </tr>\n",
              "    <tr>\n",
              "      <th>3</th>\n",
              "      <td>93.2</td>\n",
              "      <td>57.1</td>\n",
              "      <td>92.0</td>\n",
              "      <td>38.0</td>\n",
              "      <td>76.1</td>\n",
              "      <td>52.2</td>\n",
              "      <td>15.2</td>\n",
              "      <td>28.0</td>\n",
              "      <td>34.0</td>\n",
              "    </tr>\n",
              "    <tr>\n",
              "      <th>4</th>\n",
              "      <td>91.5</td>\n",
              "      <td>56.3</td>\n",
              "      <td>85.5</td>\n",
              "      <td>36.0</td>\n",
              "      <td>71.0</td>\n",
              "      <td>53.2</td>\n",
              "      <td>15.1</td>\n",
              "      <td>28.5</td>\n",
              "      <td>33.0</td>\n",
              "    </tr>\n",
              "  </tbody>\n",
              "</table>\n",
              "</div>\n",
              "      <button class=\"colab-df-convert\" onclick=\"convertToInteractive('df-e4cc85b4-05e2-4539-a985-a7b278f7db2b')\"\n",
              "              title=\"Convert this dataframe to an interactive table.\"\n",
              "              style=\"display:none;\">\n",
              "        \n",
              "  <svg xmlns=\"http://www.w3.org/2000/svg\" height=\"24px\"viewBox=\"0 0 24 24\"\n",
              "       width=\"24px\">\n",
              "    <path d=\"M0 0h24v24H0V0z\" fill=\"none\"/>\n",
              "    <path d=\"M18.56 5.44l.94 2.06.94-2.06 2.06-.94-2.06-.94-.94-2.06-.94 2.06-2.06.94zm-11 1L8.5 8.5l.94-2.06 2.06-.94-2.06-.94L8.5 2.5l-.94 2.06-2.06.94zm10 10l.94 2.06.94-2.06 2.06-.94-2.06-.94-.94-2.06-.94 2.06-2.06.94z\"/><path d=\"M17.41 7.96l-1.37-1.37c-.4-.4-.92-.59-1.43-.59-.52 0-1.04.2-1.43.59L10.3 9.45l-7.72 7.72c-.78.78-.78 2.05 0 2.83L4 21.41c.39.39.9.59 1.41.59.51 0 1.02-.2 1.41-.59l7.78-7.78 2.81-2.81c.8-.78.8-2.07 0-2.86zM5.41 20L4 18.59l7.72-7.72 1.47 1.35L5.41 20z\"/>\n",
              "  </svg>\n",
              "      </button>\n",
              "      \n",
              "  <style>\n",
              "    .colab-df-container {\n",
              "      display:flex;\n",
              "      flex-wrap:wrap;\n",
              "      gap: 12px;\n",
              "    }\n",
              "\n",
              "    .colab-df-convert {\n",
              "      background-color: #E8F0FE;\n",
              "      border: none;\n",
              "      border-radius: 50%;\n",
              "      cursor: pointer;\n",
              "      display: none;\n",
              "      fill: #1967D2;\n",
              "      height: 32px;\n",
              "      padding: 0 0 0 0;\n",
              "      width: 32px;\n",
              "    }\n",
              "\n",
              "    .colab-df-convert:hover {\n",
              "      background-color: #E2EBFA;\n",
              "      box-shadow: 0px 1px 2px rgba(60, 64, 67, 0.3), 0px 1px 3px 1px rgba(60, 64, 67, 0.15);\n",
              "      fill: #174EA6;\n",
              "    }\n",
              "\n",
              "    [theme=dark] .colab-df-convert {\n",
              "      background-color: #3B4455;\n",
              "      fill: #D2E3FC;\n",
              "    }\n",
              "\n",
              "    [theme=dark] .colab-df-convert:hover {\n",
              "      background-color: #434B5C;\n",
              "      box-shadow: 0px 1px 3px 1px rgba(0, 0, 0, 0.15);\n",
              "      filter: drop-shadow(0px 1px 2px rgba(0, 0, 0, 0.3));\n",
              "      fill: #FFFFFF;\n",
              "    }\n",
              "  </style>\n",
              "\n",
              "      <script>\n",
              "        const buttonEl =\n",
              "          document.querySelector('#df-e4cc85b4-05e2-4539-a985-a7b278f7db2b button.colab-df-convert');\n",
              "        buttonEl.style.display =\n",
              "          google.colab.kernel.accessAllowed ? 'block' : 'none';\n",
              "\n",
              "        async function convertToInteractive(key) {\n",
              "          const element = document.querySelector('#df-e4cc85b4-05e2-4539-a985-a7b278f7db2b');\n",
              "          const dataTable =\n",
              "            await google.colab.kernel.invokeFunction('convertToInteractive',\n",
              "                                                     [key], {});\n",
              "          if (!dataTable) return;\n",
              "\n",
              "          const docLinkHtml = 'Like what you see? Visit the ' +\n",
              "            '<a target=\"_blank\" href=https://colab.research.google.com/notebooks/data_table.ipynb>data table notebook</a>'\n",
              "            + ' to learn more about interactive tables.';\n",
              "          element.innerHTML = '';\n",
              "          dataTable['output_type'] = 'display_data';\n",
              "          await google.colab.output.renderOutput(dataTable, element);\n",
              "          const docLink = document.createElement('div');\n",
              "          docLink.innerHTML = docLinkHtml;\n",
              "          element.appendChild(docLink);\n",
              "        }\n",
              "      </script>\n",
              "    </div>\n",
              "  </div>\n",
              "  "
            ]
          },
          "metadata": {},
          "execution_count": 5
        }
      ]
    },
    {
      "cell_type": "code",
      "source": [
        "body_len['skullw'].head()"
      ],
      "metadata": {
        "colab": {
          "base_uri": "https://localhost:8080/"
        },
        "id": "EECqXf8aglL6",
        "outputId": "283ae3d9-dcdd-496d-975f-0b0a7097cce0"
      },
      "execution_count": 7,
      "outputs": [
        {
          "output_type": "execute_result",
          "data": {
            "text/plain": [
              "0    60.4\n",
              "1    57.6\n",
              "2    60.0\n",
              "3    57.1\n",
              "4    56.3\n",
              "Name: skullw, dtype: float64"
            ]
          },
          "metadata": {},
          "execution_count": 7
        }
      ]
    },
    {
      "cell_type": "code",
      "source": [
        "body_len.shape"
      ],
      "metadata": {
        "colab": {
          "base_uri": "https://localhost:8080/"
        },
        "id": "EcYyewT3gp4L",
        "outputId": "f353d9c9-26d9-44a5-ccce-dd40d73bfed4"
      },
      "execution_count": 8,
      "outputs": [
        {
          "output_type": "execute_result",
          "data": {
            "text/plain": [
              "(101, 9)"
            ]
          },
          "metadata": {},
          "execution_count": 8
        }
      ]
    },
    {
      "cell_type": "code",
      "source": [
        "#let´s do the same with age only\n",
        "age = Df['age']\n",
        "age.head()"
      ],
      "metadata": {
        "colab": {
          "base_uri": "https://localhost:8080/"
        },
        "id": "uWjjGm4akeDM",
        "outputId": "9ef4c247-e23d-4c76-8353-07652df3e3b8"
      },
      "execution_count": 10,
      "outputs": [
        {
          "output_type": "execute_result",
          "data": {
            "text/plain": [
              "0    8.0\n",
              "1    6.0\n",
              "2    6.0\n",
              "3    6.0\n",
              "4    2.0\n",
              "Name: age, dtype: float64"
            ]
          },
          "metadata": {},
          "execution_count": 10
        }
      ]
    },
    {
      "cell_type": "code",
      "source": [
        "age.shape"
      ],
      "metadata": {
        "colab": {
          "base_uri": "https://localhost:8080/"
        },
        "id": "0wgl9ztGkv2Y",
        "outputId": "262c33b7-f4fd-4836-ba97-47e185ea0ca2"
      },
      "execution_count": 11,
      "outputs": [
        {
          "output_type": "execute_result",
          "data": {
            "text/plain": [
              "(101,)"
            ]
          },
          "metadata": {},
          "execution_count": 11
        }
      ]
    },
    {
      "cell_type": "markdown",
      "source": [
        "Now our data is clean, let´s make a machine learning regression model"
      ],
      "metadata": {
        "id": "3temE_8BgzTq"
      }
    },
    {
      "cell_type": "code",
      "source": [
        "import matplotlib.pyplot as plt\n",
        "import tensorflow as tf"
      ],
      "metadata": {
        "id": "ar8V74uYg72o"
      },
      "execution_count": 12,
      "outputs": []
    },
    {
      "cell_type": "code",
      "source": [
        "body_len.values[:10]"
      ],
      "metadata": {
        "colab": {
          "base_uri": "https://localhost:8080/"
        },
        "id": "1GvkNpkPzeh5",
        "outputId": "6761f033-a298-4651-fc95-6925eb66224c"
      },
      "execution_count": 14,
      "outputs": [
        {
          "output_type": "execute_result",
          "data": {
            "text/plain": [
              "array([[94.1, 60.4, 89. , 36. , 74.5, 54.5, 15.2, 28. , 36. ],\n",
              "       [92.5, 57.6, 91.5, 36.5, 72.5, 51.2, 16. , 28.5, 33. ],\n",
              "       [94. , 60. , 95.5, 39. , 75.4, 51.9, 15.5, 30. , 34. ],\n",
              "       [93.2, 57.1, 92. , 38. , 76.1, 52.2, 15.2, 28. , 34. ],\n",
              "       [91.5, 56.3, 85.5, 36. , 71. , 53.2, 15.1, 28.5, 33. ],\n",
              "       [93.1, 54.8, 90.5, 35.5, 73.2, 53.6, 14.2, 30. , 32. ],\n",
              "       [95.3, 58.2, 89.5, 36. , 71.5, 52. , 14.2, 30. , 34.5],\n",
              "       [94.8, 57.6, 91. , 37. , 72.7, 53.9, 14.5, 29. , 34. ],\n",
              "       [93.4, 56.3, 91.5, 37. , 72.4, 52.9, 15.5, 28. , 33. ],\n",
              "       [91.8, 58. , 89.5, 37.5, 70.9, 53.4, 14.4, 27.5, 32. ]])"
            ]
          },
          "metadata": {},
          "execution_count": 14
        }
      ]
    },
    {
      "cell_type": "code",
      "source": [
        "body_len_arr = np.array(body_len.values)\n",
        "age_arr = np.array(age.values)\n",
        "print(body_len_arr.shape)\n",
        "print(age_arr.shape)"
      ],
      "metadata": {
        "colab": {
          "base_uri": "https://localhost:8080/"
        },
        "id": "SUhRz1mG1krz",
        "outputId": "f8b81803-11ba-4f48-cce5-589b1aa3052b"
      },
      "execution_count": 15,
      "outputs": [
        {
          "output_type": "stream",
          "name": "stdout",
          "text": [
            "(101, 9)\n",
            "(101,)\n"
          ]
        }
      ]
    },
    {
      "cell_type": "code",
      "source": [
        "age_arr[:10]"
      ],
      "metadata": {
        "colab": {
          "base_uri": "https://localhost:8080/"
        },
        "id": "fzxsCdLQ2_kF",
        "outputId": "bb697648-595a-4c6c-acb8-a5af409cae33"
      },
      "execution_count": 16,
      "outputs": [
        {
          "output_type": "execute_result",
          "data": {
            "text/plain": [
              "array([8., 6., 6., 6., 2., 1., 2., 6., 9., 6.])"
            ]
          },
          "metadata": {},
          "execution_count": 16
        }
      ]
    },
    {
      "cell_type": "code",
      "source": [
        "#let´s splitting data: train, validation and test\n",
        "#train:65,validation:16,test: 20\n",
        "#train\n",
        "x_train = body_len_arr[:65]\n",
        "y_train = age_arr[:65]\n",
        "x_val = body_len_arr[65:(65+16)]\n",
        "y_val = age_arr[65:(65+16)]\n",
        "x_test = body_len_arr[(65+16):]\n",
        "y_test = age_arr[(65+16):]\n",
        "s = lambda s: s.shape\n",
        "print(s(x_train),s(y_train),s(x_val),s(y_val),s(x_test),s(y_test))"
      ],
      "metadata": {
        "colab": {
          "base_uri": "https://localhost:8080/"
        },
        "id": "sV5kplhChTjg",
        "outputId": "93eb5a9c-503f-4155-d1b5-0d7a0fe821f5"
      },
      "execution_count": 18,
      "outputs": [
        {
          "output_type": "stream",
          "name": "stdout",
          "text": [
            "(65, 9) (65,) (16, 9) (16,) (20, 9) (20,)\n"
          ]
        }
      ]
    },
    {
      "cell_type": "code",
      "source": [
        "plt.hist(y_train, label='train')\n",
        "plt.hist(y_test, label = 'test')\n",
        "plt.xlabel('Age')\n",
        "plt.legend();"
      ],
      "metadata": {
        "colab": {
          "base_uri": "https://localhost:8080/",
          "height": 279
        },
        "id": "d0-50sA_l27g",
        "outputId": "ddd09936-3cb9-422c-8c09-978c294c1a89"
      },
      "execution_count": 19,
      "outputs": [
        {
          "output_type": "display_data",
          "data": {
            "text/plain": [
              "<Figure size 432x288 with 1 Axes>"
            ],
            "image/png": "[encoded data removed]"
          },
          "metadata": {
            "needs_background": "light"
          }
        }
      ]
    },
    {
      "cell_type": "code",
      "source": [
        "x_train[:10]"
      ],
      "metadata": {
        "colab": {
          "base_uri": "https://localhost:8080/"
        },
        "id": "tcE3bk_BuqvZ",
        "outputId": "4760d0e9-14d7-43e7-fb29-d5b7aa4912fc"
      },
      "execution_count": 21,
      "outputs": [
        {
          "output_type": "execute_result",
          "data": {
            "text/plain": [
              "array([[94.1, 60.4, 89. , 36. , 74.5, 54.5, 15.2, 28. , 36. ],\n",
              "       [92.5, 57.6, 91.5, 36.5, 72.5, 51.2, 16. , 28.5, 33. ],\n",
              "       [94. , 60. , 95.5, 39. , 75.4, 51.9, 15.5, 30. , 34. ],\n",
              "       [93.2, 57.1, 92. , 38. , 76.1, 52.2, 15.2, 28. , 34. ],\n",
              "       [91.5, 56.3, 85.5, 36. , 71. , 53.2, 15.1, 28.5, 33. ],\n",
              "       [93.1, 54.8, 90.5, 35.5, 73.2, 53.6, 14.2, 30. , 32. ],\n",
              "       [95.3, 58.2, 89.5, 36. , 71.5, 52. , 14.2, 30. , 34.5],\n",
              "       [94.8, 57.6, 91. , 37. , 72.7, 53.9, 14.5, 29. , 34. ],\n",
              "       [93.4, 56.3, 91.5, 37. , 72.4, 52.9, 15.5, 28. , 33. ],\n",
              "       [91.8, 58. , 89.5, 37.5, 70.9, 53.4, 14.4, 27.5, 32. ]])"
            ]
          },
          "metadata": {},
          "execution_count": 21
        }
      ]
    },
    {
      "cell_type": "code",
      "source": [
        "#Normalizing data\n",
        "from sklearn.preprocessing import StandardScaler\n",
        "scaler = StandardScaler()\n",
        "\n",
        "# first we fit the scaler on the training dataset\n",
        "scaler.fit(x_train)\n",
        "\n",
        "# then we call the transform method to scale both the training and testing data\n",
        "x_train_norm = scaler.transform(x_train)\n",
        "x_val_norm = scaler.transform(x_val)\n",
        "x_test_norm = scaler.transform(x_test)"
      ],
      "metadata": {
        "id": "IlNflVmAmYj7"
      },
      "execution_count": 22,
      "outputs": []
    },
    {
      "cell_type": "code",
      "source": [
        "x_train_norm[0]"
      ],
      "metadata": {
        "colab": {
          "base_uri": "https://localhost:8080/"
        },
        "id": "3LHp-juymtIB",
        "outputId": "6f39b98a-638f-4e44-c887-3cbb18f52e21"
      },
      "execution_count": 23,
      "outputs": [
        {
          "output_type": "execute_result",
          "data": {
            "text/plain": [
              "array([ 0.14822412,  1.00163272,  0.14675903, -0.35057547,  1.04515351,\n",
              "        1.18324043,  0.01393894,  0.1426307 ,  1.0279182 ])"
            ]
          },
          "metadata": {},
          "execution_count": 23
        }
      ]
    },
    {
      "cell_type": "code",
      "source": [
        "y_train[0]"
      ],
      "metadata": {
        "colab": {
          "base_uri": "https://localhost:8080/"
        },
        "id": "YsRoynvgm4aZ",
        "outputId": "d6a00682-3311-463f-ff7a-83f48d2ad5bb"
      },
      "execution_count": 24,
      "outputs": [
        {
          "output_type": "execute_result",
          "data": {
            "text/plain": [
              "8.0"
            ]
          },
          "metadata": {},
          "execution_count": 24
        }
      ]
    },
    {
      "cell_type": "code",
      "source": [
        "x_train.shape"
      ],
      "metadata": {
        "colab": {
          "base_uri": "https://localhost:8080/"
        },
        "id": "vUXOKvrboP_B",
        "outputId": "53c655e9-e4fc-4bef-a302-88f2bd02fa1d"
      },
      "execution_count": 25,
      "outputs": [
        {
          "output_type": "execute_result",
          "data": {
            "text/plain": [
              "(65, 9)"
            ]
          },
          "metadata": {},
          "execution_count": 25
        }
      ]
    },
    {
      "cell_type": "code",
      "source": [
        "#input shape has 9 features\n",
        "input_shape = 9\n",
        "neurons = 80\n",
        "model = tf.keras.models.Sequential([\n",
        "    tf.keras.layers.Input(input_shape),\n",
        "    tf.keras.layers.Dense(neurons, activation='relu'),\n",
        "    tf.keras.layers.Dense(neurons, activation='relu'),\n",
        "    tf.keras.layers.Dense(1)\n",
        "    ])\n",
        "\n",
        "model.summary()"
      ],
      "metadata": {
        "id": "_F5V-Jlfnsnf"
      },
      "execution_count": null,
      "outputs": []
    },
    {
      "cell_type": "code",
      "source": [
        "from tensorflow.keras.optimizers import Adam\n",
        "opt = Adam(learning_rate =0.0005)\n",
        "model.compile(\n",
        "    optimizer = opt,\n",
        "    loss ='mse',\n",
        "    metrics =['mae']\n",
        "    )"
      ],
      "metadata": {
        "id": "awMrSuV0os2G"
      },
      "execution_count": 102,
      "outputs": []
    },
    {
      "cell_type": "code",
      "source": [
        "#Let´s add a callback to prevent overfitting\n",
        "callback = tf.keras.callbacks.EarlyStopping(monitor='loss', patience=10)"
      ],
      "metadata": {
        "id": "TGsBopRypI1a"
      },
      "execution_count": 104,
      "outputs": []
    },
    {
      "cell_type": "code",
      "source": [
        "history = model.fit(\n",
        "    x_train_norm, \n",
        "    y_train,\n",
        "    epochs=1000, \n",
        "    validation_data =(x_val_norm,y_val),\n",
        "    callbacks = [callback]\n",
        "    )"
      ],
      "metadata": {
        "colab": {
          "base_uri": "https://localhost:8080/"
        },
        "id": "fIF_0BcKqOmm",
        "outputId": "e438be13-0975-4f33-f147-f5da5994212e"
      },
      "execution_count": 105,
      "outputs": [
        {
          "output_type": "stream",
          "name": "stdout",
          "text": [
            "Epoch 1/1000\n",
            "3/3 [==============================] - 1s 76ms/step - loss: 21.1863 - mae: 4.1860 - val_loss: 17.4192 - val_mae: 3.6372\n",
            "Epoch 2/1000\n",
            "3/3 [==============================] - 0s 14ms/step - loss: 20.2482 - mae: 4.0667 - val_loss: 16.4651 - val_mae: 3.4744\n",
            "Epoch 3/1000\n",
            "3/3 [==============================] - 0s 14ms/step - loss: 19.4586 - mae: 3.9602 - val_loss: 15.6192 - val_mae: 3.3205\n",
            "Epoch 4/1000\n",
            "3/3 [==============================] - 0s 11ms/step - loss: 18.6852 - mae: 3.8569 - val_loss: 14.8629 - val_mae: 3.1725\n",
            "Epoch 5/1000\n",
            "3/3 [==============================] - 0s 12ms/step - loss: 17.9932 - mae: 3.7596 - val_loss: 14.1642 - val_mae: 3.0289\n",
            "Epoch 6/1000\n",
            "3/3 [==============================] - 0s 12ms/step - loss: 17.3061 - mae: 3.6597 - val_loss: 13.5274 - val_mae: 2.9262\n",
            "Epoch 7/1000\n",
            "3/3 [==============================] - 0s 23ms/step - loss: 16.6500 - mae: 3.5644 - val_loss: 12.9445 - val_mae: 2.8716\n",
            "Epoch 8/1000\n",
            "3/3 [==============================] - 0s 14ms/step - loss: 16.0176 - mae: 3.4756 - val_loss: 12.4031 - val_mae: 2.8586\n",
            "Epoch 9/1000\n",
            "3/3 [==============================] - 0s 15ms/step - loss: 15.4182 - mae: 3.3861 - val_loss: 11.8872 - val_mae: 2.8447\n",
            "Epoch 10/1000\n",
            "3/3 [==============================] - 0s 12ms/step - loss: 14.8047 - mae: 3.2947 - val_loss: 11.4034 - val_mae: 2.8300\n",
            "Epoch 11/1000\n",
            "3/3 [==============================] - 0s 11ms/step - loss: 14.2097 - mae: 3.2030 - val_loss: 10.9709 - val_mae: 2.8153\n",
            "Epoch 12/1000\n",
            "3/3 [==============================] - 0s 13ms/step - loss: 13.6012 - mae: 3.1079 - val_loss: 10.5747 - val_mae: 2.7980\n",
            "Epoch 13/1000\n",
            "3/3 [==============================] - 0s 18ms/step - loss: 12.9967 - mae: 3.0113 - val_loss: 10.2042 - val_mae: 2.7760\n",
            "Epoch 14/1000\n",
            "3/3 [==============================] - 0s 15ms/step - loss: 12.4290 - mae: 2.9154 - val_loss: 9.8902 - val_mae: 2.7535\n",
            "Epoch 15/1000\n",
            "3/3 [==============================] - 0s 21ms/step - loss: 11.8527 - mae: 2.8258 - val_loss: 9.6485 - val_mae: 2.7333\n",
            "Epoch 16/1000\n",
            "3/3 [==============================] - 0s 15ms/step - loss: 11.3098 - mae: 2.7328 - val_loss: 9.4737 - val_mae: 2.7148\n",
            "Epoch 17/1000\n",
            "3/3 [==============================] - 0s 14ms/step - loss: 10.8222 - mae: 2.6506 - val_loss: 9.3699 - val_mae: 2.6952\n",
            "Epoch 18/1000\n",
            "3/3 [==============================] - 0s 12ms/step - loss: 10.3130 - mae: 2.5661 - val_loss: 9.3337 - val_mae: 2.6753\n",
            "Epoch 19/1000\n",
            "3/3 [==============================] - 0s 12ms/step - loss: 9.8395 - mae: 2.4989 - val_loss: 9.3564 - val_mae: 2.6731\n",
            "Epoch 20/1000\n",
            "3/3 [==============================] - 0s 22ms/step - loss: 9.4463 - mae: 2.4455 - val_loss: 9.4181 - val_mae: 2.6817\n",
            "Epoch 21/1000\n",
            "3/3 [==============================] - 0s 12ms/step - loss: 9.0363 - mae: 2.3895 - val_loss: 9.5062 - val_mae: 2.7001\n",
            "Epoch 22/1000\n",
            "3/3 [==============================] - 0s 16ms/step - loss: 8.6610 - mae: 2.3369 - val_loss: 9.6490 - val_mae: 2.7182\n",
            "Epoch 23/1000\n",
            "3/3 [==============================] - 0s 13ms/step - loss: 8.3032 - mae: 2.2876 - val_loss: 9.7892 - val_mae: 2.7290\n",
            "Epoch 24/1000\n",
            "3/3 [==============================] - 0s 12ms/step - loss: 7.9667 - mae: 2.2345 - val_loss: 9.9342 - val_mae: 2.7462\n",
            "Epoch 25/1000\n",
            "3/3 [==============================] - 0s 12ms/step - loss: 7.6595 - mae: 2.1849 - val_loss: 10.0771 - val_mae: 2.7658\n",
            "Epoch 26/1000\n",
            "3/3 [==============================] - 0s 12ms/step - loss: 7.3702 - mae: 2.1411 - val_loss: 10.1950 - val_mae: 2.7787\n",
            "Epoch 27/1000\n",
            "3/3 [==============================] - 0s 15ms/step - loss: 7.1284 - mae: 2.1048 - val_loss: 10.3232 - val_mae: 2.7904\n",
            "Epoch 28/1000\n",
            "3/3 [==============================] - 0s 12ms/step - loss: 6.9237 - mae: 2.0679 - val_loss: 10.4637 - val_mae: 2.8015\n",
            "Epoch 29/1000\n",
            "3/3 [==============================] - 0s 13ms/step - loss: 6.7374 - mae: 2.0367 - val_loss: 10.5694 - val_mae: 2.8071\n",
            "Epoch 30/1000\n",
            "3/3 [==============================] - 0s 11ms/step - loss: 6.5724 - mae: 2.0124 - val_loss: 10.6494 - val_mae: 2.8164\n",
            "Epoch 31/1000\n",
            "3/3 [==============================] - 0s 12ms/step - loss: 6.4398 - mae: 1.9975 - val_loss: 10.7058 - val_mae: 2.8293\n",
            "Epoch 32/1000\n",
            "3/3 [==============================] - 0s 11ms/step - loss: 6.3040 - mae: 1.9797 - val_loss: 10.7934 - val_mae: 2.8464\n",
            "Epoch 33/1000\n",
            "3/3 [==============================] - 0s 14ms/step - loss: 6.1618 - mae: 1.9593 - val_loss: 10.8790 - val_mae: 2.8618\n",
            "Epoch 34/1000\n",
            "3/3 [==============================] - 0s 12ms/step - loss: 6.0386 - mae: 1.9471 - val_loss: 10.9828 - val_mae: 2.8783\n",
            "Epoch 35/1000\n",
            "3/3 [==============================] - 0s 16ms/step - loss: 5.8969 - mae: 1.9319 - val_loss: 11.0507 - val_mae: 2.8881\n",
            "Epoch 36/1000\n",
            "3/3 [==============================] - 0s 14ms/step - loss: 5.7951 - mae: 1.9184 - val_loss: 10.9683 - val_mae: 2.8765\n",
            "Epoch 37/1000\n",
            "3/3 [==============================] - 0s 12ms/step - loss: 5.7082 - mae: 1.9064 - val_loss: 10.9478 - val_mae: 2.8730\n",
            "Epoch 38/1000\n",
            "3/3 [==============================] - 0s 12ms/step - loss: 5.6299 - mae: 1.8955 - val_loss: 10.9102 - val_mae: 2.8675\n",
            "Epoch 39/1000\n",
            "3/3 [==============================] - 0s 16ms/step - loss: 5.5579 - mae: 1.8886 - val_loss: 10.9078 - val_mae: 2.8668\n",
            "Epoch 40/1000\n",
            "3/3 [==============================] - 0s 12ms/step - loss: 5.4983 - mae: 1.8817 - val_loss: 10.8514 - val_mae: 2.8594\n",
            "Epoch 41/1000\n",
            "3/3 [==============================] - 0s 13ms/step - loss: 5.4349 - mae: 1.8731 - val_loss: 10.7328 - val_mae: 2.8445\n",
            "Epoch 42/1000\n",
            "3/3 [==============================] - 0s 13ms/step - loss: 5.3733 - mae: 1.8618 - val_loss: 10.4735 - val_mae: 2.8094\n",
            "Epoch 43/1000\n",
            "3/3 [==============================] - 0s 15ms/step - loss: 5.2830 - mae: 1.8449 - val_loss: 10.2594 - val_mae: 2.7791\n",
            "Epoch 44/1000\n",
            "3/3 [==============================] - 0s 12ms/step - loss: 5.2173 - mae: 1.8343 - val_loss: 10.0687 - val_mae: 2.7514\n",
            "Epoch 45/1000\n",
            "3/3 [==============================] - 0s 14ms/step - loss: 5.1490 - mae: 1.8218 - val_loss: 9.9425 - val_mae: 2.7322\n",
            "Epoch 46/1000\n",
            "3/3 [==============================] - 0s 12ms/step - loss: 5.0827 - mae: 1.8108 - val_loss: 9.8254 - val_mae: 2.7148\n",
            "Epoch 47/1000\n",
            "3/3 [==============================] - 0s 11ms/step - loss: 5.0301 - mae: 1.8019 - val_loss: 9.7258 - val_mae: 2.6995\n",
            "Epoch 48/1000\n",
            "3/3 [==============================] - 0s 13ms/step - loss: 4.9759 - mae: 1.7914 - val_loss: 9.6088 - val_mae: 2.6819\n",
            "Epoch 49/1000\n",
            "3/3 [==============================] - 0s 12ms/step - loss: 4.9246 - mae: 1.7793 - val_loss: 9.5564 - val_mae: 2.6734\n",
            "Epoch 50/1000\n",
            "3/3 [==============================] - 0s 23ms/step - loss: 4.8849 - mae: 1.7691 - val_loss: 9.5256 - val_mae: 2.6679\n",
            "Epoch 51/1000\n",
            "3/3 [==============================] - 0s 12ms/step - loss: 4.8351 - mae: 1.7599 - val_loss: 9.5177 - val_mae: 2.6647\n",
            "Epoch 52/1000\n",
            "3/3 [==============================] - 0s 13ms/step - loss: 4.7912 - mae: 1.7498 - val_loss: 9.5060 - val_mae: 2.6610\n",
            "Epoch 53/1000\n",
            "3/3 [==============================] - 0s 13ms/step - loss: 4.7559 - mae: 1.7432 - val_loss: 9.4330 - val_mae: 2.6502\n",
            "Epoch 54/1000\n",
            "3/3 [==============================] - 0s 16ms/step - loss: 4.7129 - mae: 1.7321 - val_loss: 9.3846 - val_mae: 2.6439\n",
            "Epoch 55/1000\n",
            "3/3 [==============================] - 0s 12ms/step - loss: 4.6735 - mae: 1.7224 - val_loss: 9.3531 - val_mae: 2.6391\n",
            "Epoch 56/1000\n",
            "3/3 [==============================] - 0s 14ms/step - loss: 4.6536 - mae: 1.7141 - val_loss: 9.3307 - val_mae: 2.6346\n",
            "Epoch 57/1000\n",
            "3/3 [==============================] - 0s 13ms/step - loss: 4.6148 - mae: 1.7054 - val_loss: 9.2796 - val_mae: 2.6267\n",
            "Epoch 58/1000\n",
            "3/3 [==============================] - 0s 13ms/step - loss: 4.5887 - mae: 1.6970 - val_loss: 9.1950 - val_mae: 2.6144\n",
            "Epoch 59/1000\n",
            "3/3 [==============================] - 0s 12ms/step - loss: 4.5588 - mae: 1.6902 - val_loss: 9.1524 - val_mae: 2.6068\n",
            "Epoch 60/1000\n",
            "3/3 [==============================] - 0s 14ms/step - loss: 4.5241 - mae: 1.6851 - val_loss: 9.1229 - val_mae: 2.6016\n",
            "Epoch 61/1000\n",
            "3/3 [==============================] - 0s 13ms/step - loss: 4.4849 - mae: 1.6781 - val_loss: 9.0582 - val_mae: 2.5920\n",
            "Epoch 62/1000\n",
            "3/3 [==============================] - 0s 15ms/step - loss: 4.4637 - mae: 1.6703 - val_loss: 8.9584 - val_mae: 2.5782\n",
            "Epoch 63/1000\n",
            "3/3 [==============================] - 0s 12ms/step - loss: 4.4310 - mae: 1.6618 - val_loss: 8.9001 - val_mae: 2.5719\n",
            "Epoch 64/1000\n",
            "3/3 [==============================] - 0s 12ms/step - loss: 4.3938 - mae: 1.6553 - val_loss: 8.8676 - val_mae: 2.5702\n",
            "Epoch 65/1000\n",
            "3/3 [==============================] - 0s 13ms/step - loss: 4.3563 - mae: 1.6512 - val_loss: 8.8394 - val_mae: 2.5693\n",
            "Epoch 66/1000\n",
            "3/3 [==============================] - 0s 13ms/step - loss: 4.3131 - mae: 1.6447 - val_loss: 8.7465 - val_mae: 2.5563\n",
            "Epoch 67/1000\n",
            "3/3 [==============================] - 0s 14ms/step - loss: 4.2787 - mae: 1.6395 - val_loss: 8.6493 - val_mae: 2.5415\n",
            "Epoch 68/1000\n",
            "3/3 [==============================] - 0s 12ms/step - loss: 4.2468 - mae: 1.6328 - val_loss: 8.4995 - val_mae: 2.5157\n",
            "Epoch 69/1000\n",
            "3/3 [==============================] - 0s 12ms/step - loss: 4.2206 - mae: 1.6267 - val_loss: 8.3489 - val_mae: 2.4946\n",
            "Epoch 70/1000\n",
            "3/3 [==============================] - 0s 12ms/step - loss: 4.1971 - mae: 1.6201 - val_loss: 8.2436 - val_mae: 2.4811\n",
            "Epoch 71/1000\n",
            "3/3 [==============================] - 0s 15ms/step - loss: 4.1722 - mae: 1.6143 - val_loss: 8.1605 - val_mae: 2.4706\n",
            "Epoch 72/1000\n",
            "3/3 [==============================] - 0s 13ms/step - loss: 4.1403 - mae: 1.6049 - val_loss: 8.0311 - val_mae: 2.4513\n",
            "Epoch 73/1000\n",
            "3/3 [==============================] - 0s 14ms/step - loss: 4.1265 - mae: 1.5953 - val_loss: 7.8527 - val_mae: 2.4252\n",
            "Epoch 74/1000\n",
            "3/3 [==============================] - 0s 15ms/step - loss: 4.0951 - mae: 1.5851 - val_loss: 7.7592 - val_mae: 2.4133\n",
            "Epoch 75/1000\n",
            "3/3 [==============================] - 0s 13ms/step - loss: 4.0487 - mae: 1.5772 - val_loss: 7.7518 - val_mae: 2.4160\n",
            "Epoch 76/1000\n",
            "3/3 [==============================] - 0s 13ms/step - loss: 4.0097 - mae: 1.5722 - val_loss: 7.7851 - val_mae: 2.4249\n",
            "Epoch 77/1000\n",
            "3/3 [==============================] - 0s 13ms/step - loss: 3.9701 - mae: 1.5647 - val_loss: 7.7899 - val_mae: 2.4286\n",
            "Epoch 78/1000\n",
            "3/3 [==============================] - 0s 13ms/step - loss: 3.9384 - mae: 1.5579 - val_loss: 7.8254 - val_mae: 2.4365\n",
            "Epoch 79/1000\n",
            "3/3 [==============================] - 0s 14ms/step - loss: 3.9144 - mae: 1.5544 - val_loss: 7.8366 - val_mae: 2.4406\n",
            "Epoch 80/1000\n",
            "3/3 [==============================] - 0s 13ms/step - loss: 3.8867 - mae: 1.5476 - val_loss: 7.8103 - val_mae: 2.4384\n",
            "Epoch 81/1000\n",
            "3/3 [==============================] - 0s 12ms/step - loss: 3.8711 - mae: 1.5419 - val_loss: 7.8476 - val_mae: 2.4459\n",
            "Epoch 82/1000\n",
            "3/3 [==============================] - 0s 16ms/step - loss: 3.8480 - mae: 1.5342 - val_loss: 7.8998 - val_mae: 2.4562\n",
            "Epoch 83/1000\n",
            "3/3 [==============================] - 0s 12ms/step - loss: 3.8242 - mae: 1.5287 - val_loss: 7.9358 - val_mae: 2.4646\n",
            "Epoch 84/1000\n",
            "3/3 [==============================] - 0s 15ms/step - loss: 3.7985 - mae: 1.5228 - val_loss: 7.9743 - val_mae: 2.4742\n",
            "Epoch 85/1000\n",
            "3/3 [==============================] - 0s 13ms/step - loss: 3.7901 - mae: 1.5225 - val_loss: 7.9030 - val_mae: 2.4663\n",
            "Epoch 86/1000\n",
            "3/3 [==============================] - 0s 12ms/step - loss: 3.7742 - mae: 1.5148 - val_loss: 7.7404 - val_mae: 2.4429\n",
            "Epoch 87/1000\n",
            "3/3 [==============================] - 0s 13ms/step - loss: 3.7674 - mae: 1.5096 - val_loss: 7.7309 - val_mae: 2.4432\n",
            "Epoch 88/1000\n",
            "3/3 [==============================] - 0s 14ms/step - loss: 3.7571 - mae: 1.5104 - val_loss: 7.8646 - val_mae: 2.4651\n",
            "Epoch 89/1000\n",
            "3/3 [==============================] - 0s 14ms/step - loss: 3.7336 - mae: 1.5111 - val_loss: 7.8452 - val_mae: 2.4627\n",
            "Epoch 90/1000\n",
            "3/3 [==============================] - 0s 13ms/step - loss: 3.7177 - mae: 1.5091 - val_loss: 7.8403 - val_mae: 2.4626\n",
            "Epoch 91/1000\n",
            "3/3 [==============================] - 0s 15ms/step - loss: 3.7019 - mae: 1.5085 - val_loss: 7.8249 - val_mae: 2.4618\n",
            "Epoch 92/1000\n",
            "3/3 [==============================] - 0s 12ms/step - loss: 3.6758 - mae: 1.5049 - val_loss: 7.7619 - val_mae: 2.4531\n",
            "Epoch 93/1000\n",
            "3/3 [==============================] - 0s 12ms/step - loss: 3.6480 - mae: 1.5007 - val_loss: 7.7059 - val_mae: 2.4451\n",
            "Epoch 94/1000\n",
            "3/3 [==============================] - 0s 12ms/step - loss: 3.6309 - mae: 1.4969 - val_loss: 7.6534 - val_mae: 2.4374\n",
            "Epoch 95/1000\n",
            "3/3 [==============================] - 0s 14ms/step - loss: 3.6149 - mae: 1.4928 - val_loss: 7.6122 - val_mae: 2.4321\n",
            "Epoch 96/1000\n",
            "3/3 [==============================] - 0s 13ms/step - loss: 3.5962 - mae: 1.4897 - val_loss: 7.6107 - val_mae: 2.4338\n",
            "Epoch 97/1000\n",
            "3/3 [==============================] - 0s 13ms/step - loss: 3.5724 - mae: 1.4860 - val_loss: 7.5609 - val_mae: 2.4266\n",
            "Epoch 98/1000\n",
            "3/3 [==============================] - 0s 14ms/step - loss: 3.5543 - mae: 1.4819 - val_loss: 7.3386 - val_mae: 2.3939\n",
            "Epoch 99/1000\n",
            "3/3 [==============================] - 0s 13ms/step - loss: 3.5442 - mae: 1.4738 - val_loss: 6.9375 - val_mae: 2.3320\n",
            "Epoch 100/1000\n",
            "3/3 [==============================] - 0s 13ms/step - loss: 3.5281 - mae: 1.4623 - val_loss: 6.7139 - val_mae: 2.2961\n",
            "Epoch 101/1000\n",
            "3/3 [==============================] - 0s 13ms/step - loss: 3.5165 - mae: 1.4597 - val_loss: 6.6244 - val_mae: 2.2819\n",
            "Epoch 102/1000\n",
            "3/3 [==============================] - 0s 18ms/step - loss: 3.4957 - mae: 1.4594 - val_loss: 6.5872 - val_mae: 2.2762\n",
            "Epoch 103/1000\n",
            "3/3 [==============================] - 0s 27ms/step - loss: 3.4748 - mae: 1.4582 - val_loss: 6.5806 - val_mae: 2.2759\n",
            "Epoch 104/1000\n",
            "3/3 [==============================] - 0s 17ms/step - loss: 3.4533 - mae: 1.4563 - val_loss: 6.6157 - val_mae: 2.2825\n",
            "Epoch 105/1000\n",
            "3/3 [==============================] - 0s 12ms/step - loss: 3.4375 - mae: 1.4583 - val_loss: 6.6861 - val_mae: 2.2949\n",
            "Epoch 106/1000\n",
            "3/3 [==============================] - 0s 21ms/step - loss: 3.4217 - mae: 1.4603 - val_loss: 6.7340 - val_mae: 2.3033\n",
            "Epoch 107/1000\n",
            "3/3 [==============================] - 0s 16ms/step - loss: 3.4030 - mae: 1.4616 - val_loss: 6.7673 - val_mae: 2.3092\n",
            "Epoch 108/1000\n",
            "3/3 [==============================] - 0s 17ms/step - loss: 3.3925 - mae: 1.4637 - val_loss: 6.7099 - val_mae: 2.2996\n",
            "Epoch 109/1000\n",
            "3/3 [==============================] - 0s 13ms/step - loss: 3.3702 - mae: 1.4555 - val_loss: 6.5608 - val_mae: 2.2729\n",
            "Epoch 110/1000\n",
            "3/3 [==============================] - 0s 14ms/step - loss: 3.3536 - mae: 1.4452 - val_loss: 6.4503 - val_mae: 2.2515\n",
            "Epoch 111/1000\n",
            "3/3 [==============================] - 0s 14ms/step - loss: 3.3339 - mae: 1.4369 - val_loss: 6.3762 - val_mae: 2.2363\n",
            "Epoch 112/1000\n",
            "3/3 [==============================] - 0s 13ms/step - loss: 3.3184 - mae: 1.4298 - val_loss: 6.3315 - val_mae: 2.2258\n",
            "Epoch 113/1000\n",
            "3/3 [==============================] - 0s 14ms/step - loss: 3.2916 - mae: 1.4189 - val_loss: 6.4591 - val_mae: 2.2468\n",
            "Epoch 114/1000\n",
            "3/3 [==============================] - 0s 14ms/step - loss: 3.2646 - mae: 1.4126 - val_loss: 6.8080 - val_mae: 2.3089\n",
            "Epoch 115/1000\n",
            "3/3 [==============================] - 0s 12ms/step - loss: 3.2244 - mae: 1.4093 - val_loss: 7.1101 - val_mae: 2.3607\n",
            "Epoch 116/1000\n",
            "3/3 [==============================] - 0s 13ms/step - loss: 3.2060 - mae: 1.4159 - val_loss: 7.5091 - val_mae: 2.4280\n",
            "Epoch 117/1000\n",
            "3/3 [==============================] - 0s 13ms/step - loss: 3.1962 - mae: 1.4276 - val_loss: 8.1821 - val_mae: 2.5470\n",
            "Epoch 118/1000\n",
            "3/3 [==============================] - 0s 15ms/step - loss: 3.2012 - mae: 1.4474 - val_loss: 9.0580 - val_mae: 2.6852\n",
            "Epoch 119/1000\n",
            "3/3 [==============================] - 0s 13ms/step - loss: 3.2473 - mae: 1.4816 - val_loss: 9.8808 - val_mae: 2.8024\n",
            "Epoch 120/1000\n",
            "3/3 [==============================] - 0s 13ms/step - loss: 3.2623 - mae: 1.4964 - val_loss: 10.2086 - val_mae: 2.8474\n",
            "Epoch 121/1000\n",
            "3/3 [==============================] - 0s 13ms/step - loss: 3.2621 - mae: 1.4968 - val_loss: 10.3139 - val_mae: 2.8626\n",
            "Epoch 122/1000\n",
            "3/3 [==============================] - 0s 13ms/step - loss: 3.2450 - mae: 1.4929 - val_loss: 10.3386 - val_mae: 2.8670\n",
            "Epoch 123/1000\n",
            "3/3 [==============================] - 0s 12ms/step - loss: 3.2439 - mae: 1.4973 - val_loss: 10.3552 - val_mae: 2.8704\n",
            "Epoch 124/1000\n",
            "3/3 [==============================] - 0s 12ms/step - loss: 3.2523 - mae: 1.5016 - val_loss: 9.9246 - val_mae: 2.8148\n",
            "Epoch 125/1000\n",
            "3/3 [==============================] - 0s 14ms/step - loss: 3.2000 - mae: 1.4812 - val_loss: 8.9198 - val_mae: 2.6752\n",
            "Epoch 126/1000\n",
            "3/3 [==============================] - 0s 14ms/step - loss: 3.1150 - mae: 1.4430 - val_loss: 8.0822 - val_mae: 2.5484\n",
            "Epoch 127/1000\n",
            "3/3 [==============================] - 0s 13ms/step - loss: 3.0718 - mae: 1.4165 - val_loss: 7.3904 - val_mae: 2.4318\n",
            "Epoch 128/1000\n",
            "3/3 [==============================] - 0s 16ms/step - loss: 3.0453 - mae: 1.3943 - val_loss: 6.7612 - val_mae: 2.3161\n",
            "Epoch 129/1000\n",
            "3/3 [==============================] - 0s 15ms/step - loss: 3.0408 - mae: 1.3681 - val_loss: 6.3705 - val_mae: 2.2477\n",
            "Epoch 130/1000\n",
            "3/3 [==============================] - 0s 13ms/step - loss: 3.0347 - mae: 1.3549 - val_loss: 6.1641 - val_mae: 2.2082\n",
            "Epoch 131/1000\n",
            "3/3 [==============================] - 0s 13ms/step - loss: 3.0262 - mae: 1.3450 - val_loss: 6.0707 - val_mae: 2.1890\n",
            "Epoch 132/1000\n",
            "3/3 [==============================] - 0s 13ms/step - loss: 3.0082 - mae: 1.3370 - val_loss: 6.0347 - val_mae: 2.1827\n",
            "Epoch 133/1000\n",
            "3/3 [==============================] - 0s 14ms/step - loss: 2.9906 - mae: 1.3308 - val_loss: 5.9935 - val_mae: 2.1750\n",
            "Epoch 134/1000\n",
            "3/3 [==============================] - 0s 13ms/step - loss: 2.9791 - mae: 1.3248 - val_loss: 5.9671 - val_mae: 2.1695\n",
            "Epoch 135/1000\n",
            "3/3 [==============================] - 0s 20ms/step - loss: 2.9628 - mae: 1.3161 - val_loss: 5.9590 - val_mae: 2.1669\n",
            "Epoch 136/1000\n",
            "3/3 [==============================] - 0s 13ms/step - loss: 2.9500 - mae: 1.3065 - val_loss: 5.9391 - val_mae: 2.1621\n",
            "Epoch 137/1000\n",
            "3/3 [==============================] - 0s 13ms/step - loss: 2.9666 - mae: 1.3016 - val_loss: 5.9029 - val_mae: 2.1546\n",
            "Epoch 138/1000\n",
            "3/3 [==============================] - 0s 22ms/step - loss: 2.9638 - mae: 1.2931 - val_loss: 5.9046 - val_mae: 2.1549\n",
            "Epoch 139/1000\n",
            "3/3 [==============================] - 0s 13ms/step - loss: 2.9720 - mae: 1.2915 - val_loss: 5.9189 - val_mae: 2.1581\n",
            "Epoch 140/1000\n",
            "3/3 [==============================] - 0s 25ms/step - loss: 2.9715 - mae: 1.2895 - val_loss: 5.9636 - val_mae: 2.1680\n",
            "Epoch 141/1000\n",
            "3/3 [==============================] - 0s 25ms/step - loss: 2.9652 - mae: 1.2886 - val_loss: 6.0217 - val_mae: 2.1799\n",
            "Epoch 142/1000\n",
            "3/3 [==============================] - 0s 12ms/step - loss: 2.9553 - mae: 1.2863 - val_loss: 6.0725 - val_mae: 2.1892\n",
            "Epoch 143/1000\n",
            "3/3 [==============================] - 0s 13ms/step - loss: 2.9623 - mae: 1.2841 - val_loss: 6.1170 - val_mae: 2.1963\n",
            "Epoch 144/1000\n",
            "3/3 [==============================] - 0s 12ms/step - loss: 2.9684 - mae: 1.2798 - val_loss: 6.1653 - val_mae: 2.2071\n",
            "Epoch 145/1000\n",
            "3/3 [==============================] - 0s 12ms/step - loss: 2.9696 - mae: 1.2779 - val_loss: 6.2322 - val_mae: 2.2229\n",
            "Epoch 146/1000\n",
            "3/3 [==============================] - 0s 13ms/step - loss: 2.9561 - mae: 1.2788 - val_loss: 6.3567 - val_mae: 2.2528\n"
          ]
        }
      ]
    },
    {
      "cell_type": "code",
      "source": [
        "train_eval = model.evaluate(x_train_norm, y_train)\n",
        "val_eval = model.evaluate(x_val_norm, y_val)\n",
        "test_eval = model.evaluate(x_test_norm, y_test)"
      ],
      "metadata": {
        "colab": {
          "base_uri": "https://localhost:8080/"
        },
        "id": "YDIuCyUN6BFW",
        "outputId": "a7227a9b-3705-41bc-d47f-ec7057f04824"
      },
      "execution_count": 106,
      "outputs": [
        {
          "output_type": "stream",
          "name": "stdout",
          "text": [
            "3/3 [==============================] - 0s 4ms/step - loss: 2.9300 - mae: 1.2803\n",
            "1/1 [==============================] - 0s 17ms/step - loss: 6.3567 - mae: 2.2528\n",
            "1/1 [==============================] - 0s 17ms/step - loss: 2.8368 - mae: 1.3325\n"
          ]
        }
      ]
    },
    {
      "cell_type": "code",
      "source": [
        "plt.plot(history.history['mae'], label='training MAE')\n",
        "plt.plot(history.history['val_mae'], label='validation MAE')\n",
        "plt.title('model mae')\n",
        "plt.ylabel('mae')\n",
        "plt.xlabel('epoch')\n",
        "plt.legend(loc='upper right')\n",
        "#plt.ylim([0,50])\n",
        "plt.show()"
      ],
      "metadata": {
        "colab": {
          "base_uri": "https://localhost:8080/",
          "height": 295
        },
        "id": "zzjAITNV637G",
        "outputId": "93b46cce-510a-4f0e-9e99-bc273268ce8c"
      },
      "execution_count": 107,
      "outputs": [
        {
          "output_type": "display_data",
          "data": {
            "text/plain": [
              "<Figure size 432x288 with 1 Axes>"
            ],
            "image/png": "[encoded data removed]"
          },
          "metadata": {
            "needs_background": "light"
          }
        }
      ]
    },
    {
      "cell_type": "code",
      "source": [
        "y_hat = model.predict(x_test_norm)\n",
        "print(y_hat[:5]) # get the output predict values for the 5 first samples"
      ],
      "metadata": {
        "colab": {
          "base_uri": "https://localhost:8080/"
        },
        "id": "owRnhsS79zVk",
        "outputId": "5d04b3d4-d3eb-4ec6-d792-476bb375cdf4"
      },
      "execution_count": 109,
      "outputs": [
        {
          "output_type": "stream",
          "name": "stdout",
          "text": [
            "1/1 [==============================] - 0s 86ms/step\n",
            "[[4.594117 ]\n",
            " [4.4707375]\n",
            " [3.7091923]\n",
            " [4.0601034]\n",
            " [2.9473302]]\n"
          ]
        }
      ]
    },
    {
      "cell_type": "code",
      "source": [
        "y_test[:5]"
      ],
      "metadata": {
        "colab": {
          "base_uri": "https://localhost:8080/"
        },
        "id": "sXK0JTpQ92Xp",
        "outputId": "3828dddc-8121-440e-a14a-17eee57ef5f1"
      },
      "execution_count": 110,
      "outputs": [
        {
          "output_type": "execute_result",
          "data": {
            "text/plain": [
              "array([3., 3., 2., 2., 6.])"
            ]
          },
          "metadata": {},
          "execution_count": 110
        }
      ]
    },
    {
      "cell_type": "code",
      "source": [
        "plt.hist(y_hat, label='predictions', color = 'b')\n",
        "plt.hist(y_test, label = 'real values', color = 'r', alpha=0.5)\n",
        "plt.xlabel('Age of possum')\n",
        "plt.legend();\n",
        "#You can see some purple overlaps!"
      ],
      "metadata": {
        "colab": {
          "base_uri": "https://localhost:8080/",
          "height": 279
        },
        "id": "zIIiQrPx9_QY",
        "outputId": "86cd250c-a960-4918-92b1-c039774e85b9"
      },
      "execution_count": 112,
      "outputs": [
        {
          "output_type": "display_data",
          "data": {
            "text/plain": [
              "<Figure size 432x288 with 1 Axes>"
            ],
            "image/png": "[encoded data removed]"
          },
          "metadata": {
            "needs_background": "light"
          }
        }
      ]
    },
    {
      "cell_type": "markdown",
      "source": [
        "Since *MAE* is a error metric more resilient to outliers than *RMSE*, we can say that the model prediction error is about +/- 1.33 years old."
      ],
      "metadata": {
        "id": "tx8kDI5T2OTw"
      }
    },
    {
      "cell_type": "code",
      "source": [],
      "metadata": {
        "id": "R3kBvKtu3VML"
      },
      "execution_count": null,
      "outputs": []
    }
  ]
}